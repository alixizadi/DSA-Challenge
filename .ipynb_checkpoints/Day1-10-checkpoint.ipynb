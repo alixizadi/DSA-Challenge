{
 "cells": [
  {
   "cell_type": "markdown",
   "id": "f6868480-1056-4787-963b-e2a134d96295",
   "metadata": {},
   "source": [
    "## 1. Two Sum `Easy`\n",
    "\n",
    "- Given an array of integers nums and an integer target , return indices of the two numbers such that they add up to target\n",
    "- You may assume that each input would have exactly one solution, and you may not use the same element twice.\n",
    "- You can return the answer in any order."
   ]
  },
  {
   "cell_type": "code",
   "execution_count": null,
   "id": "fe394b7a-f343-45e3-8a24-3ff92fbf8e54",
   "metadata": {},
   "outputs": [],
   "source": []
  },
  {
   "cell_type": "markdown",
   "id": "8c0e522f-e38f-4794-aa72-6ce1fa443d46",
   "metadata": {},
   "source": [
    "## 2. Valid Parentheses `Easy`\n",
    "\n",
    "- Given a string s containing just the characters '(' , ')' , '{' , '}' , '[' & ']' , determine if the input string is valid.\n",
    "- An input string is valid if:\n",
    "\n",
    "> - Open brackets must be closed by the same type of brackets.\n",
    ">\n",
    "> - Open brackets must be closed in the correct order.\n",
    ">\n",
    "> - Every close bracket has a corresponding open bracket of the same type."
   ]
  },
  {
   "cell_type": "code",
   "execution_count": null,
   "id": "2e498069-0297-4f1e-a468-82dd3786f68c",
   "metadata": {},
   "outputs": [],
   "source": []
  },
  {
   "cell_type": "markdown",
   "id": "7ea44ebf-d75b-4551-95fa-a59304e9dff5",
   "metadata": {},
   "source": [
    "## 3. Merge Two Sorted Lists `Easy`\n",
    "- You are given the heads of two sorted linked lists list1 and list2 .\n",
    "- Merge the two lists in a one sorted list. The list should be made by splicing together the nodes of the first two lists.\n",
    "- Return the head of the merged linked list."
   ]
  },
  {
   "cell_type": "code",
   "execution_count": null,
   "id": "c25b3fc7-2783-4a30-beb5-222c1ec293d8",
   "metadata": {},
   "outputs": [],
   "source": []
  },
  {
   "cell_type": "markdown",
   "id": "85da9da5-a4d9-4aca-8497-5274aed2d3ec",
   "metadata": {},
   "source": [
    "## 4. Best Time to Buy and Sell Stock `Easy`\n",
    "- You are given an array prices where prices[i] is the price of a given stock on the ith day.\n",
    "- You want to maximize your profit by choosing a single day to buy one stock and choosing a different day in the future to sell that stock.\n",
    "- Return the maximum profit you can achieve from this transaction. If you cannot achieve any profit, return 0"
   ]
  },
  {
   "cell_type": "code",
   "execution_count": null,
   "id": "64a3b318-311c-4225-a772-798fcc8a88bd",
   "metadata": {},
   "outputs": [],
   "source": []
  },
  {
   "cell_type": "markdown",
   "id": "4ec9cbb0-aa94-4677-ac76-cc51caa82ddc",
   "metadata": {},
   "source": [
    "## 5. Valid Palindrome `Easy`\n",
    "- A phrase is a palindrome if, after converting all uppercase letters into lowercase letters and removing all non-alphanumeric characters, it reads the same forward and backward. Alphanumeric characters include letters and numbers.\n",
    "- Given a string s return true if it is a palindrome, or false otherwise."
   ]
  },
  {
   "cell_type": "code",
   "execution_count": null,
   "id": "696f163d-2feb-40d7-b6c8-8444f9370b16",
   "metadata": {},
   "outputs": [],
   "source": []
  },
  {
   "cell_type": "markdown",
   "id": "71e853f4-7650-4f08-bd2c-1806c13f5e21",
   "metadata": {},
   "source": [
    "## 6. Invert Binary Tree `Easy`\n",
    "- Given the root of a binary tree, invert the tree, and return its root"
   ]
  },
  {
   "cell_type": "code",
   "execution_count": null,
   "id": "546fe729-40fc-42c5-8e91-2919d6b768fa",
   "metadata": {},
   "outputs": [],
   "source": []
  },
  {
   "cell_type": "markdown",
   "id": "291c4f6b-a37f-448f-8b38-591236393510",
   "metadata": {},
   "source": [
    "## 7. Valid Anagram `Easy`\n",
    "- Given two strings s and t , return true if t is an anagram of s , and false otherwise.\n",
    "- An Anagram is a word or phrase formed by rearranging the letters of a\n",
    " different word or phrase, typically using all the original letters exactly once."
   ]
  },
  {
   "cell_type": "markdown",
   "id": "006951fd-5dff-4df8-a52d-03a9e7adcc57",
   "metadata": {},
   "source": []
  },
  {
   "cell_type": "markdown",
   "id": "017a50f5-d4b5-4bf9-a71a-f4042c9bc412",
   "metadata": {},
   "source": [
    "## 8. Binary Search `Easy`\n",
    "- Given an array of integers nums which is sorted in ascending order, and an integer target , write a function to search target in nums . If target exists,thenreturnitsindex.Otherwise,return -1 .\n",
    "- You must write an algorithm with 0(log n) runtime complexity."
   ]
  },
  {
   "cell_type": "code",
   "execution_count": null,
   "id": "a41c48c5-3617-40ef-aa5e-261849e03cdf",
   "metadata": {},
   "outputs": [],
   "source": []
  },
  {
   "cell_type": "markdown",
   "id": "64581f09-cdc5-4787-bd1f-1cde6de358aa",
   "metadata": {},
   "source": [
    "## 9. Flood Fill `Easy`\n",
    "- An image is represented by an m x n integer grid image where image[i][j] represents the pixel value of the image.\n",
    "- You are also given three integers sr , sc and color . You should perform a flood fill on the image starting from the pixel image[sr][sc] .\n",
    "- Return the modified image after performing the flood fill."
   ]
  },
  {
   "cell_type": "code",
   "execution_count": null,
   "id": "d81736d4-ba31-4b44-ad9a-ab2e4b4699b5",
   "metadata": {},
   "outputs": [],
   "source": []
  },
  {
   "cell_type": "markdown",
   "id": "b6db11f3-37ad-4f99-b323-d22320b232f8",
   "metadata": {},
   "source": [
    "## 10. Lowest Common Ancestor of a Binary Search Tree `Easy`\n",
    "\n",
    "- Given a binary search tree (BST), find the lowest common ancestor (LCA) node of two given nodes in the BST.\n",
    "- According to the definition of LCA on Wikipedia: “The lowest common ancestor is defined between two nodes p and q as the lowest node in T\n",
    "that has both p and q as descendants (where we allow a node to be a descendant of itself).”"
   ]
  },
  {
   "cell_type": "code",
   "execution_count": null,
   "id": "d81764dd-b188-44d7-8c7b-d772a16edea5",
   "metadata": {},
   "outputs": [],
   "source": []
  },
  {
   "cell_type": "markdown",
   "id": "aa9eb07d-4515-4bc6-8d89-ff3f1efdb4f1",
   "metadata": {},
   "source": [
    "## 11. Balanced Binary Tree `Easy`\n",
    "- Given a binary tree, determine if it is height-balanced."
   ]
  },
  {
   "cell_type": "code",
   "execution_count": null,
   "id": "b4377c4a-9f91-4238-a000-88595af70f64",
   "metadata": {},
   "outputs": [],
   "source": []
  },
  {
   "cell_type": "markdown",
   "id": "9f71ddd5-3863-42fc-9ca2-e230a88c84ca",
   "metadata": {},
   "source": [
    "## 12. Linked List Cycle `Easy`\n",
    "- Given head , the head of a linked list, determine if the linked list has a cycle in it.\n",
    "- There is a cycle in a linked list if there is some node in the list that can be reached again by continuously following the next pointer . Internally, pos\n",
    "- is used to denote the index of the node that tail's next pointer is connected to. Note that pos is not passed as a parameter.\n",
    "- Return true if there is a cycle in the linked list. Otherwise, return false ."
   ]
  }
 ],
 "metadata": {
  "kernelspec": {
   "display_name": "Python 3 (ipykernel)",
   "language": "python",
   "name": "python3"
  },
  "language_info": {
   "codemirror_mode": {
    "name": "ipython",
    "version": 3
   },
   "file_extension": ".py",
   "mimetype": "text/x-python",
   "name": "python",
   "nbconvert_exporter": "python",
   "pygments_lexer": "ipython3",
   "version": "3.9.7"
  }
 },
 "nbformat": 4,
 "nbformat_minor": 5
}
