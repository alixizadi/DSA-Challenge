{
 "cells": [
  {
   "cell_type": "markdown",
   "id": "36cd3591-e7de-4788-be51-63d338499636",
   "metadata": {},
   "source": [
    "## 13. First Bad Version `Easy`\n",
    "- Suppose you have n versions `[1, 2, ..., n]` and you want to find out the first bad one, which causes all the following ones to be bad.\n",
    "- You are given an API bool isBadVersion(version) which returns whether version is bad.\n",
    "- Implement a function to find the first bad version."
   ]
  },
  {
   "cell_type": "markdown",
   "id": "042bd21f-ffbe-4afd-9b88-afa577c6e110",
   "metadata": {},
   "source": [
    "## 14. Ransom Note `Easy`\n",
    "- Given two strings ransomNote and magazine , return true if ransomNote can be constructed by using the letters from magazine and false otherwise.\n",
    "- Each letter in magazine can only be used once in ransomNote"
   ]
  },
  {
   "cell_type": "markdown",
   "id": "9b8b82d0-218d-40c5-91bc-63366f74ec3f",
   "metadata": {},
   "source": [
    "## 15. Climbing Stairs `Easy`\n",
    "- You are climbing a staircase. It takes n steps to reach the top.\n",
    "- Each time you can either climb 1 or 2 steps.\n",
    "- In how many distinct ways can you climb to the top?"
   ]
  },
  {
   "cell_type": "markdown",
   "id": "b44b6270-9361-4db3-94af-4af197040de4",
   "metadata": {},
   "source": [
    "## 16. Longest Palindrome `Easy`\n",
    "\n",
    "- Given a string s which consists of lowercase or uppercase letters, return the length of the longest palindrome that can be built with those letters.\n",
    "- Letters are case sensitive, for example, \"Aa\" is not considered a palindrome here."
   ]
  },
  {
   "cell_type": "markdown",
   "id": "0d87c1d0-38ef-4b0a-bd23-780dbe4e7909",
   "metadata": {},
   "source": [
    "## 17. Add Binary `Easy`\n",
    "- Given two binary strings `a` and `b` return their sum as a binary string `s`"
   ]
  },
  {
   "cell_type": "markdown",
   "id": "c2da8e9a-d255-4b19-bef4-8ba34a317435",
   "metadata": {},
   "source": [
    "## 18. Diameter of Binary Tree `Easy`\n",
    "\n",
    "- Given the root of a binary tree, return the length of the diameter of the tree.\n",
    "- The diameter of a binary tree is the length of the longest path between any two nodes in a tree. \n",
    "- This path may or may not pass through the root"
   ]
  },
  {
   "cell_type": "markdown",
   "id": "93cd8280-6037-4c1c-b083-04577e048664",
   "metadata": {},
   "source": [
    "## 19. Middle of the Linked List `Easy`\n",
    "- Given the head of a singly linked list, return the middle node of the linked list.\n",
    "- If there are two middle nodes, return the second middle node."
   ]
  },
  {
   "cell_type": "markdown",
   "id": "68058553-1cb0-469f-971d-2e80e9c30045",
   "metadata": {},
   "source": [
    "## 20. Maximum Depth of Binary Tree `Easy`\n",
    "- Given the root of a binary tree, return its maximum depth.\n",
    "- A binary tree's maximum depth is the number of nodes along the longest path from the root node down to the farthest leaf node."
   ]
  },
  {
   "cell_type": "markdown",
   "id": "59d50f8a-33e3-4df5-9c19-a289311ce60f",
   "metadata": {},
   "source": [
    "## 21. K Closest Points to Origin `Medium`\n",
    "- Given an array of points , where `points[i] = [xi, yi]` represents a point on the `X-Y` plane and an integer `k` , return the `k` closest points to the origin `(0, 0)`\n",
    "- You may return the answer in any order."
   ]
  },
  {
   "cell_type": "markdown",
   "id": "44cc701b-ae14-4bff-b431-01966d47ca0a",
   "metadata": {},
   "source": [
    "## 22. Longest Substring Without Repeating Characters `Medium`\n",
    "- Given a string `s` find the length of the longest substring without repeating characters."
   ]
  }
 ],
 "metadata": {
  "kernelspec": {
   "display_name": "Python 3 (ipykernel)",
   "language": "python",
   "name": "python3"
  },
  "language_info": {
   "codemirror_mode": {
    "name": "ipython",
    "version": 3
   },
   "file_extension": ".py",
   "mimetype": "text/x-python",
   "name": "python",
   "nbconvert_exporter": "python",
   "pygments_lexer": "ipython3",
   "version": "3.9.7"
  }
 },
 "nbformat": 4,
 "nbformat_minor": 5
}
