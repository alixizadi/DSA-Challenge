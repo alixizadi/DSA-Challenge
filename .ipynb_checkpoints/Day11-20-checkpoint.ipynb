{
 "cells": [
  {
   "cell_type": "markdown",
   "id": "36cd3591-e7de-4788-be51-63d338499636",
   "metadata": {},
   "source": [
    "## 13. First Bad Version `Easy`\n",
    "- Suppose you have n versions `[1, 2, ..., n]` and you want to find out the first bad one, which causes all the following ones to be bad.\n",
    "- You are given an API bool isBadVersion(version) which returns whether version is bad.\n",
    "- Implement a function to find the first bad version."
   ]
  },
  {
   "cell_type": "code",
   "execution_count": 1,
   "id": "7e079e7c-6800-4d3c-91be-cb8ff7c99b9b",
   "metadata": {},
   "outputs": [],
   "source": [
    "# same as binary search problem\n",
    "\n",
    "def firstBadVersion(n):\n",
    "    left = 1\n",
    "    right = n\n",
    "\n",
    "    while left < right:\n",
    "        mid = left + (right - left) // 2\n",
    "        if isBadVersion(mid):\n",
    "            right = mid\n",
    "        else:\n",
    "            left = mid + 1\n",
    "\n",
    "    return left\n"
   ]
  },
  {
   "cell_type": "markdown",
   "id": "042bd21f-ffbe-4afd-9b88-afa577c6e110",
   "metadata": {},
   "source": [
    "## 14. Ransom Note `Easy`\n",
    "- Given two strings ransomNote and magazine , return true if ransomNote can be constructed by using the letters from magazine and false otherwise.\n",
    "- Each letter in magazine can only be used once in ransomNote"
   ]
  },
  {
   "cell_type": "code",
   "execution_count": 4,
   "id": "e069f512-e123-448d-b80e-d44a890d9e5c",
   "metadata": {},
   "outputs": [
    {
     "name": "stdout",
     "output_type": "stream",
     "text": [
      "True\n",
      "False\n"
     ]
    }
   ],
   "source": [
    "from collections import Counter\n",
    "\n",
    "def can_construct(ransomNote, magazine):\n",
    "    # Count the frequency of characters in both strings\n",
    "    ransom_counts = Counter(ransomNote)\n",
    "    magazine_counts = Counter(magazine)\n",
    "\n",
    "    # if the frequency of each character in the ransom note\n",
    "    # is less than or equal to the frequency in the magazine it cannot be constructed\n",
    "    for char, count in ransom_counts.items():\n",
    "        if count > magazine_counts.get(char, 0):\n",
    "            return False\n",
    "\n",
    "    return True\n",
    "\n",
    "ransomNote = \"aabbcc\"\n",
    "magazine = \"aabbbccxyz\"\n",
    "result = can_construct(ransomNote, magazine)\n",
    "print(result) #True\n",
    "\n",
    "\n",
    "ransomNote = \"abcd\"\n",
    "magazine = \"aabbbccxyz\"\n",
    "\n",
    "result = can_construct(ransomNote, magazine)\n",
    "print(result) #False\n"
   ]
  },
  {
   "cell_type": "markdown",
   "id": "9b8b82d0-218d-40c5-91bc-63366f74ec3f",
   "metadata": {},
   "source": [
    "## 15. Climbing Stairs `Easy`\n",
    "- You are climbing a staircase. It takes n steps to reach the top.\n",
    "- Each time you can either climb 1 or 2 steps.\n",
    "- In how many distinct ways can you climb to the top?"
   ]
  },
  {
   "cell_type": "code",
   "execution_count": 16,
   "id": "be2fcc06-c483-485d-8232-ff81aa5af689",
   "metadata": {},
   "outputs": [
    {
     "name": "stdout",
     "output_type": "stream",
     "text": [
      "ways_to_climb(6): 13\n",
      "ways_to_climb(7): 21\n",
      "ways_to_climb(9): 55\n"
     ]
    }
   ],
   "source": [
    "#recursive \n",
    "def ways_to_climb(distance):\n",
    "    if distance < 1:\n",
    "        return 0\n",
    "    if distance == 1:\n",
    "        return 1\n",
    "    if distance == 2:\n",
    "        return 2\n",
    "    \n",
    "    return ways_to_climb(distance - 1) + ways_to_climb(distance - 2)\n",
    "print('ways_to_climb(6):', ways_to_climb(6))\n",
    "print('ways_to_climb(7):', ways_to_climb(7))\n",
    "print('ways_to_climb(9):', ways_to_climb(9))"
   ]
  },
  {
   "cell_type": "code",
   "execution_count": 17,
   "id": "065e8748-5f89-4a02-833e-1c325ab5339a",
   "metadata": {},
   "outputs": [
    {
     "name": "stdout",
     "output_type": "stream",
     "text": [
      "ways_to_climb_dynamic(6): 13\n",
      "ways_to_climb_dynamic(7): 21\n",
      "ways_to_climb_dynamic(9): 55\n"
     ]
    }
   ],
   "source": [
    "#dyanmic programming\n",
    "def ways_to_climb_dynamic(n):\n",
    "    if n <= 2:\n",
    "        return n\n",
    "\n",
    "    # Initialize the number of ways for the first two steps\n",
    "    dp = [0] * (n + 1)\n",
    "    dp[1] = 1\n",
    "    dp[2] = 2\n",
    "\n",
    "    # Calculate the number of ways for each step up to n\n",
    "    for i in range(3, n + 1):\n",
    "        dp[i] = dp[i - 1] + dp[i - 2]\n",
    "\n",
    "    return dp[n]\n",
    "print('ways_to_climb_dynamic(6):', ways_to_climb_dynamic(6))\n",
    "print('ways_to_climb_dynamic(7):', ways_to_climb_dynamic(7))\n",
    "print('ways_to_climb_dynamic(9):', ways_to_climb_dynamic(9))"
   ]
  },
  {
   "cell_type": "markdown",
   "id": "b44b6270-9361-4db3-94af-4af197040de4",
   "metadata": {},
   "source": [
    "## 16. Longest Palindrome `Easy`\n",
    "\n",
    "- Given a string s which consists of lowercase or uppercase letters, return the length of the longest palindrome that can be built with those letters.\n",
    "- Letters are case sensitive, for example, \"Aa\" is not considered a palindrome here."
   ]
  },
  {
   "cell_type": "code",
   "execution_count": 33,
   "id": "6f47dc25-6947-418f-9b73-408f709939f4",
   "metadata": {},
   "outputs": [
    {
     "name": "stdout",
     "output_type": "stream",
     "text": [
      "1\n",
      "3\n",
      "7\n",
      "11\n"
     ]
    }
   ],
   "source": [
    "def longest_palindrome(letters):\n",
    "    freq = {}\n",
    "\n",
    "    for char in letters:\n",
    "        freq[char] = freq.get(char, 0) + 1\n",
    "\n",
    "    max_possible_length = 0\n",
    "    \n",
    "    # char has even frequency => all good\n",
    "    # char has odd  frequency => 1 cannot be used\n",
    "    \n",
    "    # an extra unused character can be used for the middle of palindrome\n",
    "    # keep a flag to see if we get an unused character\n",
    "\n",
    "    odd_counter = False \n",
    "    for k,v in freq.items():\n",
    "        max_possible_length += 2 * (v//2)\n",
    "        if v%2 == 1: \n",
    "            odd_counter = True\n",
    "        \n",
    "    return max_possible_length + (1 if odd_counter else 0)\n",
    "\n",
    "\n",
    "print(longest_palindrome('aA')) #1\n",
    "print(longest_palindrome('aAa')) #3\n",
    "print(longest_palindrome('abccccdd')) #7\n",
    "print(longest_palindrome('abccccddAAAA')) # 11"
   ]
  },
  {
   "cell_type": "markdown",
   "id": "0d87c1d0-38ef-4b0a-bd23-780dbe4e7909",
   "metadata": {},
   "source": [
    "## 17. Add Binary `Easy`\n",
    "- Given two binary strings `a` and `b` return their sum as a binary string `s`"
   ]
  },
  {
   "cell_type": "markdown",
   "id": "c2da8e9a-d255-4b19-bef4-8ba34a317435",
   "metadata": {},
   "source": [
    "## 18. Diameter of Binary Tree `Easy`\n",
    "\n",
    "- Given the root of a binary tree, return the length of the diameter of the tree.\n",
    "- The diameter of a binary tree is the length of the longest path between any two nodes in a tree. \n",
    "- This path may or may not pass through the root"
   ]
  },
  {
   "cell_type": "markdown",
   "id": "93cd8280-6037-4c1c-b083-04577e048664",
   "metadata": {},
   "source": [
    "## 19. Middle of the Linked List `Easy`\n",
    "- Given the head of a singly linked list, return the middle node of the linked list.\n",
    "- If there are two middle nodes, return the second middle node."
   ]
  },
  {
   "cell_type": "code",
   "execution_count": 18,
   "id": "9984ca74-a437-4f1e-80e3-943f133cd588",
   "metadata": {},
   "outputs": [],
   "source": [
    "class ListNode:\n",
    "    def __init__(self, val=0, next=None):\n",
    "        self.val = val\n",
    "        self.next = next\n",
    "\n",
    "def find_middle_node(head):\n",
    "    slow = head\n",
    "    fast = head\n",
    "\n",
    "    while fast and fast.next:\n",
    "        slow = slow.next\n",
    "        fast = fast.next.next\n",
    "\n",
    "    return slow\n"
   ]
  },
  {
   "cell_type": "code",
   "execution_count": 21,
   "id": "f471909c-235a-4a7c-ad69-e002af66d5ad",
   "metadata": {},
   "outputs": [
    {
     "name": "stdout",
     "output_type": "stream",
     "text": [
      "3\n",
      "4\n"
     ]
    }
   ],
   "source": [
    "head1 = ListNode(1)\n",
    "head1.next = ListNode(2)\n",
    "head1.next.next = ListNode(3)\n",
    "head1.next.next.next = ListNode(4)\n",
    "head1.next.next.next.next = ListNode(5)\n",
    "\n",
    "middle1 = find_middle_node(head1)\n",
    "print(middle1.val)  # 3\n",
    "\n",
    "\n",
    "head2 = ListNode(1)\n",
    "head2.next = ListNode(2)\n",
    "head2.next.next = ListNode(63)\n",
    "head2.next.next.next = ListNode(4)\n",
    "head2.next.next.next.next = ListNode(5)\n",
    "head2.next.next.next.next.next = ListNode(6)\n",
    "\n",
    "middle2 = find_middle_node(head2)\n",
    "print(middle2.val)  # 4\n"
   ]
  },
  {
   "cell_type": "markdown",
   "id": "68058553-1cb0-469f-971d-2e80e9c30045",
   "metadata": {},
   "source": [
    "## 20. Maximum Depth of Binary Tree `Easy`\n",
    "- Given the root of a binary tree, return its maximum depth.\n",
    "- A binary tree's maximum depth is the number of nodes along the longest path from the root node down to the farthest leaf node."
   ]
  },
  {
   "cell_type": "markdown",
   "id": "59d50f8a-33e3-4df5-9c19-a289311ce60f",
   "metadata": {},
   "source": [
    "## 21. K Closest Points to Origin `Medium`\n",
    "- Given an array of points , where `points[i] = [xi, yi]` represents a point on the `X-Y` plane and an integer `k` , return the `k` closest points to the origin `(0, 0)`\n",
    "- You may return the answer in any order."
   ]
  },
  {
   "cell_type": "markdown",
   "id": "44cc701b-ae14-4bff-b431-01966d47ca0a",
   "metadata": {},
   "source": [
    "## 22. Longest Substring Without Repeating Characters `Medium`\n",
    "- Given a string `s` find the length of the longest substring without repeating characters."
   ]
  }
 ],
 "metadata": {
  "kernelspec": {
   "display_name": "Python 3 (ipykernel)",
   "language": "python",
   "name": "python3"
  },
  "language_info": {
   "codemirror_mode": {
    "name": "ipython",
    "version": 3
   },
   "file_extension": ".py",
   "mimetype": "text/x-python",
   "name": "python",
   "nbconvert_exporter": "python",
   "pygments_lexer": "ipython3",
   "version": "3.9.7"
  }
 },
 "nbformat": 4,
 "nbformat_minor": 5
}
