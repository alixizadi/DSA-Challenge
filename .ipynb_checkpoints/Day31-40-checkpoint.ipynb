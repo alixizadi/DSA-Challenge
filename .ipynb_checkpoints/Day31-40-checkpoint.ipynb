{
 "cells": [
  {
   "cell_type": "markdown",
   "id": "b6ad3caa-23e9-4970-b617-80794ecf6e79",
   "metadata": {
    "tags": []
   },
   "source": [
    "## 31. Number of Islands `Medium`\n",
    "\n",
    "- Given an m x n 2D binary grid which represents a map of '1' s (land) and '0' s (water), return the number of islands.\n",
    "- An island is surrounded by water and is formed by connecting adjacent lands horizontally or vertically. You may assume all four edges of the grid are all surrounded by water."
   ]
  },
  {
   "cell_type": "code",
   "execution_count": 28,
   "id": "24cfecb6-d170-46d6-b309-239051f92dd9",
   "metadata": {},
   "outputs": [
    {
     "name": "stdout",
     "output_type": "stream",
     "text": [
      "6 * 5\n",
      "--finished checking neighbors of (0,3)\n",
      "[  0  0  0 -1 -1]\n",
      "[  0 -1 -1 -1  0]\n",
      "[  1  0  0 -1 -1]\n",
      "[  1  1  1  0 -1]\n",
      "[  0  1  0  0 -1]\n",
      "[  0  1  1  1  0]\n",
      "--finished checking neighbors of (2,0)\n",
      "[  0  0  0 -1 -1]\n",
      "[  0 -1 -1 -1  0]\n",
      "[ -1  0  0 -1 -1]\n",
      "[ -1 -1 -1  0 -1]\n",
      "[  0 -1  0  0 -1]\n",
      "[  0 -1 -1 -1  0]\n",
      "Number Of Islands:  2\n"
     ]
    }
   ],
   "source": [
    "show_log = True\n",
    "def print_2d(matrix):\n",
    "    for row in matrix:\n",
    "        print('[', end='')\n",
    "        for c in row:\n",
    "            print(f'{c:3}', sep=', ', end = '')\n",
    "        print(']')\n",
    "    \n",
    "    \n",
    "def flag_neighbors(matrix, i, j):\n",
    "    # print('flag_neighbors', i, j)\n",
    "    m = len(matrix)\n",
    "    n = len(matrix[0])\n",
    "    \n",
    "    # out of bounds\n",
    "    if (i < 0) or (i >= m) or (j < 0) or (j >= n):\n",
    "        return matrix\n",
    "    \n",
    "    # water or already marked\n",
    "    if matrix[i][j] == 0 or matrix[i][j] == -1:\n",
    "        return matrix\n",
    "    matrix[i][j] = -1\n",
    "    matrix = flag_neighbors(matrix, i-1, j)\n",
    "    matrix = flag_neighbors(matrix, i+1, j)\n",
    "    matrix = flag_neighbors(matrix, i, j-1)\n",
    "    matrix = flag_neighbors(matrix, i, j+1)\n",
    "    \n",
    "    return matrix\n",
    "\n",
    "def calculate_num_islands(matrix):\n",
    "    m = len(matrix)\n",
    "    n = len(matrix[0])\n",
    "    if show_log:\n",
    "        print(f'{m} * {n}')\n",
    "\n",
    "    num_islands = 0\n",
    "    for i in range(m):\n",
    "        for j in range(n):\n",
    "            if matrix[i][j] == 1:\n",
    "                #recursively flag all neighbors\n",
    "                matirx = flag_neighbors(matrix, i, j)\n",
    "                if show_log:\n",
    "                    print(f'--finished checking neighbors of ({i},{j})')\n",
    "                    print_2d(matrix)\n",
    "                num_islands += 1\n",
    "    \n",
    "    return num_islands\n",
    "\n",
    "    \n",
    "matrix = [\n",
    "    [0, 0, 0, 1, 1],\n",
    "    [0, 1, 1, 1, 0],\n",
    "    [1, 0, 0, 1, 1],\n",
    "    [1, 1, 1, 0, 1],\n",
    "    [0, 1, 0, 0, 1],\n",
    "    [0, 1, 1, 1, 0]\n",
    "]\n",
    "print('Number Of Islands: ', calculate_num_islands(matrix))"
   ]
  },
  {
   "cell_type": "markdown",
   "id": "7f4fa02b-3221-4245-b448-d3fc4fb31504",
   "metadata": {
    "tags": []
   },
   "source": [
    "## 32. Rotting Oranges `Medium`\n",
    "\n",
    "- You are given an m x n grid where each cell can have one of three values:\n",
    "\n",
    "    - 0 representing an empty cell,\n",
    "    - 1 representing a fresh orange, or\n",
    "    - 2 representing a rotten orange.\n",
    "\n",
    "\n",
    "- Every minute, any fresh orange that is 4-directionally adjacent to a rotten orange becomes rotten.\n",
    "\n",
    "- Return the minimum number of minutes that must elapse until no cell has a fresh orange. If this is impossible, return -1.\n",
    "\n"
   ]
  },
  {
   "cell_type": "code",
   "execution_count": 52,
   "id": "5ecd8fd8-9a6a-4cb0-a618-6ffe1a23391d",
   "metadata": {},
   "outputs": [
    {
     "name": "stdout",
     "output_type": "stream",
     "text": [
      "---Passed Time: 0---\n",
      "[  0  0  0  1  1]\n",
      "[  0  1  1  1  0]\n",
      "[  1  1  0  1  1]\n",
      "[  1  2  2  0  1]\n",
      "[  0  1  0  0  1]\n",
      "[  0  1  1  1  0]\n",
      "---Passed Time: 1---\n",
      "[  0  0  0  1  1]\n",
      "[  0  1  1  1  0]\n",
      "[  1  2  0  1  1]\n",
      "[  2  2  2  0  1]\n",
      "[  0  2  0  0  1]\n",
      "[  0  2  2  2  0]\n",
      "---Passed Time: 2---\n",
      "[  0  0  0  1  1]\n",
      "[  0  2  1  1  0]\n",
      "[  2  2  0  1  1]\n",
      "[  2  2  2  0  1]\n",
      "[  0  2  0  0  1]\n",
      "[  0  2  2  2  0]\n",
      "---Passed Time: 3---\n",
      "[  0  0  0  2  1]\n",
      "[  0  2  2  2  0]\n",
      "[  2  2  0  2  2]\n",
      "[  2  2  2  0  2]\n",
      "[  0  2  0  0  2]\n",
      "[  0  2  2  2  0]\n",
      "---Passed Time: 4---\n",
      "[  0  0  0  2  2]\n",
      "[  0  2  2  2  0]\n",
      "[  2  2  0  2  2]\n",
      "[  2  2  2  0  2]\n",
      "[  0  2  0  0  2]\n",
      "[  0  2  2  2  0]\n",
      "Rotting time:  5\n"
     ]
    }
   ],
   "source": [
    "def print_2d(matrix):\n",
    "    for row in matrix:\n",
    "        print('[', end='')\n",
    "        for c in row:\n",
    "            print(f'{c:3}', sep=', ', end = '')\n",
    "        print(']')\n",
    "\n",
    "def rot_orange(matrix, i, j):\n",
    "    changed = False\n",
    "    if i < 0 or i >= len(matrix) or j < 0 or j >= len(matrix[0]) :\n",
    "        return matrix, changed\n",
    "    if matrix[i][j] == 1:\n",
    "        matrix[i][j] = 2\n",
    "        changed = True\n",
    "        \n",
    "    return matrix, changed\n",
    "\n",
    "def pass_time(matrix):\n",
    "    \n",
    "    m = len(matrix)\n",
    "    n = len(matrix[0])\n",
    "    changed = False\n",
    "    for i in range(m):\n",
    "        for j in range(n):\n",
    "            if matrix[i][j] == 2:\n",
    "                matrix, c = rot_orange(matrix, i - 1, j)\n",
    "                changed = max(changed, c)\n",
    "                matrix, c = rot_orange(matrix, i + 1, j)\n",
    "                changed = max(changed, c)\n",
    "                matrix, c = rot_orange(matrix, i, j - 1)\n",
    "                changed = max(changed, c)\n",
    "                matrix, c = rot_orange(matrix, i, j + 1)\n",
    "                changed = max(changed, c)\n",
    "    \n",
    "    return matrix, changed\n",
    "        \n",
    "def calculate_rotting_time(matrix):\n",
    "\n",
    "    passed_time = 0\n",
    "    while pass_time(matrix)[1]:\n",
    "        print(str('Passed Time: ' + str(passed_time)).center(20, '-'))\n",
    "        print_2d(matrix)\n",
    "        \n",
    "        passed_time += 1\n",
    "    \n",
    "    # Check if any fresh oranges is remaining\n",
    "    for row in matrix:\n",
    "        for col in row:\n",
    "            if col == 1:\n",
    "                return -1\n",
    "    \n",
    "    return passed_time\n",
    "\n",
    "matrix = [\n",
    "    [0, 0, 0, 1, 1],\n",
    "    [0, 1, 1, 1, 0],\n",
    "    [1, 1, 0, 1, 1],\n",
    "    [1, 1, 2, 0, 1],\n",
    "    [0, 1, 0, 0, 1],\n",
    "    [0, 1, 1, 1, 0]\n",
    "]\n",
    "print('Rotting time: ', calculate_rotting_time(matrix))"
   ]
  },
  {
   "cell_type": "markdown",
   "id": "ecb9b6f7-619e-4aa5-bdbb-337e489fc1d9",
   "metadata": {
    "tags": []
   },
   "source": [
    "## 33. Search in Rotated Sorted Array `Medium`\n",
    "- There is an integer array nums sorted in ascending order (with distinct values).\n",
    "- Given the array nums after the possible rotation and an integer target return the index of target if it is in nums , or -1 is not in nums\n",
    "- You must write an algorithm with O(log n) runtime complexity.\n",
    "\n",
    "\n",
    "> Input: nums = [4,5,6,7,0,1,2], target = 0\n",
    ">\n",
    "> Output: 4\n",
    ">\n",
    ">\n",
    "> Input: nums = [4,5,6,7,0,1,2], target = 3\n",
    ">\n",
    "> Output: -1\n",
    "> \n",
    "> Input: nums = [1], target = 0\n",
    ">\n",
    "> Output: -1\n",
    " "
   ]
  },
  {
   "cell_type": "code",
   "execution_count": 45,
   "id": "8b04b3b9-90ae-418d-b9c7-0c1a7a95ae30",
   "metadata": {},
   "outputs": [],
   "source": [
    "def search(nums, target):\n",
    "    left = 0\n",
    "    right = len(nums) - 1\n",
    "\n",
    "    while left <= right:\n",
    "        mid = (left + right) // 2\n",
    "\n",
    "        if nums[mid] == target:\n",
    "            return mid\n",
    "\n",
    "        if nums[left] <= nums[mid]:\n",
    "            if nums[left] <= target < nums[mid]:\n",
    "                right = mid - 1\n",
    "            else:\n",
    "                left = mid + 1\n",
    "        else:\n",
    "            if nums[mid] < target <= nums[right]:\n",
    "                left = mid + 1\n",
    "            else:\n",
    "                right = mid - 1\n",
    "\n",
    "    return -1\n"
   ]
  },
  {
   "cell_type": "code",
   "execution_count": 48,
   "id": "d7c665df-bf4b-42f4-aeb8-ad54fab03340",
   "metadata": {},
   "outputs": [
    {
     "name": "stdout",
     "output_type": "stream",
     "text": [
      "5\n",
      "-1\n"
     ]
    }
   ],
   "source": [
    "print(search( [4,5,6,7,0,1,2], 1))\n",
    "print(search( [4,5,6,7,0,1,2], 3))"
   ]
  },
  {
   "cell_type": "markdown",
   "id": "4d14f108-3362-4d21-97db-3efa64ba5acb",
   "metadata": {},
   "source": [
    "## 34. Combination Sum `Medium`\n",
    "\n",
    "- Given an array of distinct integers candidates and a target integer candidates target return a list of all unique combinations of candidates where\n",
    "- the chosen numbers sum to target You may return the combinations in any order."
   ]
  },
  {
   "cell_type": "code",
   "execution_count": 40,
   "id": "b1a7491a-c3d0-46fe-93af-cb3dd883dfdb",
   "metadata": {},
   "outputs": [
    {
     "name": "stdout",
     "output_type": "stream",
     "text": [
      "[(2, 4), (1, 5), (0, 6), (-1, 7)]\n",
      "[(3, -2)]\n",
      "[]\n"
     ]
    }
   ],
   "source": [
    "def comb_sum(arr, s):\n",
    "    results = []\n",
    "    candidates = []\n",
    "    for a in arr:\n",
    "        r = s - a\n",
    "        if r in candidates:\n",
    "            results.append((r, a))\n",
    "            candidates.remove(r)\n",
    "        else:\n",
    "            candidates.append(a)\n",
    "    return results\n",
    "\n",
    "print(comb_sum([1,2,3,-1, 4,5,0, 6,7], 6))\n",
    "print(comb_sum([9,8,10,3,-2], 1))\n",
    "print(comb_sum([], 6))"
   ]
  },
  {
   "cell_type": "markdown",
   "id": "0e64469d-4ef8-45ac-b18a-f0426743da8d",
   "metadata": {
    "tags": []
   },
   "source": [
    "## 35. Permutations `Medium`\n",
    "\n",
    "- Given an array nums of distinct integers, return all the possible permutations. You can return the answer in any order.\n"
   ]
  },
  {
   "cell_type": "code",
   "execution_count": 34,
   "id": "bc9728a8-df44-44f0-8ce6-078bb40c50f6",
   "metadata": {},
   "outputs": [
    {
     "name": "stdout",
     "output_type": "stream",
     "text": [
      "[(1, 2, 3), (1, 3, 2), (2, 1, 3), (2, 3, 1), (3, 1, 2), (3, 2, 1)]\n"
     ]
    }
   ],
   "source": [
    "# With Itertools\n",
    "import itertools\n",
    "\n",
    "def get_permutations(lst):\n",
    "    permutations = list(itertools.permutations(lst))\n",
    "    return permutations\n",
    "\n",
    "# Example usage\n",
    "my_list = [1, 2, 3]\n",
    "result = get_permutations(my_list)\n",
    "print(result)"
   ]
  },
  {
   "cell_type": "code",
   "execution_count": 44,
   "id": "717b21f4-c7a7-483b-8fef-990a09af161b",
   "metadata": {},
   "outputs": [
    {
     "name": "stdout",
     "output_type": "stream",
     "text": [
      "24 permutations\n",
      "[[1, 2, 3, 4], [1, 2, 4, 3], [1, 3, 2, 4], [1, 3, 4, 2], [1, 4, 2, 3], [1, 4, 3, 2], [2, 1, 3, 4], [2, 1, 4, 3], [2, 3, 1, 4], [2, 3, 4, 1], [2, 4, 1, 3], [2, 4, 3, 1], [3, 1, 2, 4], [3, 1, 4, 2], [3, 2, 1, 4], [3, 2, 4, 1], [3, 4, 1, 2], [3, 4, 2, 1], [4, 1, 2, 3], [4, 1, 3, 2], [4, 2, 1, 3], [4, 2, 3, 1], [4, 3, 1, 2], [4, 3, 2, 1]]\n"
     ]
    }
   ],
   "source": [
    "def permutations(arr):\n",
    "    if len(arr) == 1:\n",
    "        return [arr]\n",
    "    perms = []\n",
    "    for i in range(0,len(arr)):\n",
    "        for y in permutations(arr[0:i] + arr[i+1:]):\n",
    "            perms.append([arr[i]] + y)\n",
    "    return perms\n",
    "p = permutations([1, 2, 3, 4])\n",
    "print(str(len(p))  + ' permutations')\n",
    "print(p)"
   ]
  },
  {
   "cell_type": "markdown",
   "id": "3e06940a-4868-44e0-bdf5-e6a2057cdcdf",
   "metadata": {},
   "source": [
    "## 36. Merge Intervals `Medium`\n",
    "\n",
    "- Given an array of intervals where intervals[i] = [starti, endi] merge all overlapping intervals, and return an array of the non-overlapping intervals that cover all the intervals in the input."
   ]
  },
  {
   "cell_type": "markdown",
   "id": "89b4f23b-c66d-4c32-885f-2b5143d6fcc6",
   "metadata": {},
   "source": [
    "Example 1:\n",
    "\n",
    "Input: intervals = [[1,3],[2,6],[8,10],[15,18]]\n",
    "Output: [[1,6],[8,10],[15,18]]\n",
    "Explanation: Since intervals [1,3] and [2,6] overlap, merge them into [1,6].\n",
    "Example 2:\n",
    "\n",
    "Input: intervals = [[1,4],[4,5]]\n",
    "Output: [[1,5]]\n",
    "Explanation: Intervals [1,4] and [4,5] are considered overlapping.\n"
   ]
  },
  {
   "cell_type": "code",
   "execution_count": 7,
   "id": "ef78cd5f-f2da-4ffa-aba4-064fb9e5306b",
   "metadata": {},
   "outputs": [
    {
     "name": "stdout",
     "output_type": "stream",
     "text": [
      "[[1, 6], [8, 10], [15, 18]]\n",
      "[[1, 5]]\n",
      "[[0, 6], [8, 8]]\n"
     ]
    }
   ],
   "source": [
    "def overlap(a, b):\n",
    "    return (a[0] <= b[1] and a[1] >= b[0])\n",
    "\n",
    "def merge_two_intervals(x, y):\n",
    "    _start = min(x[0],y[0])\n",
    "    _end = max(x[1],y[1])\n",
    "    return [_start, _end]\n",
    "\n",
    "def merge_intervals(arr):\n",
    "    output = []\n",
    "    for a in arr:\n",
    "        merged = False\n",
    "        for i, o in enumerate(output):\n",
    "            if overlap(a,o):\n",
    "                output[i] = merge_two_intervals(a,o)\n",
    "                merged = True\n",
    "\n",
    "        if not merged:\n",
    "            output.append(a)\n",
    "    return output\n",
    "            \n",
    "print(merge_intervals([[1,3],[2,6],[8,10],[15,18]]))\n",
    "print(merge_intervals([[1,4],[4,5]]))\n",
    "print(merge_intervals([[1,4],[4,5],[8,8],[0,6]]))"
   ]
  },
  {
   "cell_type": "markdown",
   "id": "9b16a2a6-62d9-4a5e-90f1-5cc336e29b0a",
   "metadata": {},
   "source": [
    "## 37. Meeting Scheduler `Medium`\n",
    "\n",
    "- Given the schedules of two people, person A and person B, as a list of intervals. Each interval represents a meeting's start and end time. \n",
    "- Find a common time slot during which both persons are available for a meeting.\n",
    "\n"
   ]
  },
  {
   "cell_type": "code",
   "execution_count": 19,
   "id": "f90fe958-f884-4ee2-aa75-1844e9bd255a",
   "metadata": {},
   "outputs": [
    {
     "name": "stdout",
     "output_type": "stream",
     "text": [
      "None\n"
     ]
    }
   ],
   "source": [
    "def findCommonTimeSlot(personA, personB, duration):\n",
    "    pass\n",
    "personA = [[60, 90], [120, 150], [180, 210]]\n",
    "personB = [[90, 120], [150, 170]]\n",
    "duration = 30\n",
    "\n",
    "timeSlots = findCommonTimeSlot(personA, personB, duration)\n",
    "print(timeSlots)  # Output: [[90, 120], [150, 170]]\n"
   ]
  },
  {
   "cell_type": "markdown",
   "id": "77e74981-f7e8-4c09-a03a-e8a9e60d0fe7",
   "metadata": {},
   "source": [
    "## 38. Time Based Key-Value Store\n",
    "- Implement the TimeMap class:\n",
    "- TimeMap() Initializes the trie object.\n",
    "- void set(String key, String value, int timestamp) String get(String key, int timestamp)\n"
   ]
  },
  {
   "cell_type": "code",
   "execution_count": 11,
   "id": "647ac099-f9ec-4e17-acec-c36653f7094f",
   "metadata": {},
   "outputs": [],
   "source": [
    "class TimeMap():\n",
    "    \n",
    "    def __init__(self):\n",
    "        self._time_map = dict()\n",
    "        \n",
    "    def __str__(self):\n",
    "        return str(self._time_map)\n",
    "    \n",
    "    def set(self, key, value, timestamp):\n",
    "        if key in self._time_map.keys():\n",
    "            self._time_map[key][timestamp] = value\n",
    "        else:\n",
    "            self._time_map[key] = dict()\n",
    "            self._time_map[key][timestamp] = value\n",
    "        \n",
    "    \n",
    "    def get(self, key, timestamp):\n",
    "        \n",
    "        if key in self._time_map.keys():\n",
    "            if timestamp in self._time_map[key].keys():\n",
    "                return self._time_map[key][timestamp]\n",
    "            else:\n",
    "                timestamps = self._time_map[key].keys()\n",
    "                if len(timestamps) > 0:\n",
    "                    max_timestamp = max(timestamps)\n",
    "                    return self._time_map[key][max_timestamp]\n",
    "                \n",
    "                else:\n",
    "                    # for testing return str\n",
    "                    # should be raise Exception\n",
    "                    return Exception('TimeStamp Not Found')\n",
    "        else:\n",
    "            # raise \n",
    "            return Exception('Key Not Found')\n",
    "     "
   ]
  },
  {
   "cell_type": "code",
   "execution_count": 12,
   "id": "02814150-ea0b-49ec-af0c-751b89f15401",
   "metadata": {},
   "outputs": [
    {
     "name": "stdout",
     "output_type": "stream",
     "text": [
      "{'key1': {1: 'val1-1', 2: 'val1-2'}, 'key2': {2: 'val3'}}\n",
      "val1-1\n",
      "val1-2\n",
      "Key Not Found\n"
     ]
    }
   ],
   "source": [
    "tm = TimeMap()\n",
    "tm.set(\"key1\", \"val1-1\", 1)\n",
    "tm.set(\"key2\", \"val2\", 2)\n",
    "tm.set(\"key2\", \"val3\", 2)\n",
    "tm.set(\"key1\", \"val1-2\", 2)\n",
    "print(tm)\n",
    "\n",
    "print(tm.get('key1', 1))\n",
    "print(tm.get('key1', 3))\n",
    "print(tm.get('key3', 1))"
   ]
  },
  {
   "cell_type": "markdown",
   "id": "5b3ff28f-1def-42f9-a73b-0e91439c922e",
   "metadata": {},
   "source": [
    "## 39. Accounts Merge `Medium`\n",
    "\n",
    "- Given a list of accounts where each element accounts[i] is a list of strings where the first element accounts[i][0] is a name, and the rest of the elements are emails representing emails of the account.\n",
    "- After merging the accounts, return the accounts in the following format: the first element of each account is the name, and the rest of the elements are emails in sorted order. The accounts themselves can be returned in any order."
   ]
  },
  {
   "cell_type": "markdown",
   "id": "6e81c2cc-1b53-4bb8-a0d9-f90a27755ac8",
   "metadata": {},
   "source": [
    "## 40. Sort Colors `Medium`\n",
    "\n",
    "- Given an array nums with n objects colored red, white, or blue, sort them in-place so that objects of the same color are adjacent, with the colors in the order red, white, and blue.\n",
    "- You must solve this problem without using the library's sort function.\n"
   ]
  },
  {
   "cell_type": "code",
   "execution_count": 21,
   "id": "37193b5c-fefa-471e-ae79-e391579ede30",
   "metadata": {},
   "outputs": [
    {
     "name": "stdout",
     "output_type": "stream",
     "text": [
      "[{'value': 2, 'color': 'red'}, {'value': 4, 'color': 'red'}, {'value': 11, 'color': 'red'}, {'value': 1, 'color': 'white'}, {'value': 5, 'color': 'white'}, {'value': 5, 'color': 'white'}, {'value': 9, 'color': 'blue'}, {'value': 8, 'color': 'blue'}]\n"
     ]
    }
   ],
   "source": [
    "colors_value = {'red' : 1, 'white' : 2, 'blue' : 3}\n",
    "\n",
    "def sort_color(array):\n",
    "    return sorted(array,  key=lambda item: colors_value[item['color']]) \n",
    "\n",
    "arr = [\n",
    "{'value' : 1, 'color' : 'white'},\n",
    "{'value' : 5, 'color' : 'white'},\n",
    "{'value' : 2, 'color' : 'red'},\n",
    "{'value' : 9, 'color' : 'blue'},\n",
    "{'value' : 4, 'color' : 'red'},\n",
    "{'value' : 11, 'color' : 'red'},\n",
    "{'value' : 5, 'color' : 'white'},\n",
    "{'value' : 8, 'color' : 'blue'},\n",
    "]\n",
    "print(sort_color(arr))"
   ]
  },
  {
   "cell_type": "code",
   "execution_count": null,
   "id": "ef45487e-c315-4e12-b1e6-479b7b579333",
   "metadata": {},
   "outputs": [],
   "source": []
  }
 ],
 "metadata": {
  "kernelspec": {
   "display_name": "Python 3 (ipykernel)",
   "language": "python",
   "name": "python3"
  },
  "language_info": {
   "codemirror_mode": {
    "name": "ipython",
    "version": 3
   },
   "file_extension": ".py",
   "mimetype": "text/x-python",
   "name": "python",
   "nbconvert_exporter": "python",
   "pygments_lexer": "ipython3",
   "version": "3.9.7"
  }
 },
 "nbformat": 4,
 "nbformat_minor": 5
}
