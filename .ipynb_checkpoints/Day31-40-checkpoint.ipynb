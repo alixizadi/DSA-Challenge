{
 "cells": [
  {
   "cell_type": "markdown",
   "id": "b6ad3caa-23e9-4970-b617-80794ecf6e79",
   "metadata": {},
   "source": [
    "## 31. Number of Islands `Medium`\n",
    "\n",
    "- Given an m x n 2D binary grid which represents a map of '1' s (land) and '0' s (water), return the number of islands.\n",
    "- An island is surrounded by water and is formed by connecting adjacent lands horizontally or vertically. You may assume all four edges of the grid are all surrounded by water."
   ]
  },
  {
   "cell_type": "code",
   "execution_count": 28,
   "id": "24cfecb6-d170-46d6-b309-239051f92dd9",
   "metadata": {},
   "outputs": [
    {
     "name": "stdout",
     "output_type": "stream",
     "text": [
      "6 * 5\n",
      "--finished checking neighbors of (0,3)\n",
      "[  0  0  0 -1 -1]\n",
      "[  0 -1 -1 -1  0]\n",
      "[  1  0  0 -1 -1]\n",
      "[  1  1  1  0 -1]\n",
      "[  0  1  0  0 -1]\n",
      "[  0  1  1  1  0]\n",
      "--finished checking neighbors of (2,0)\n",
      "[  0  0  0 -1 -1]\n",
      "[  0 -1 -1 -1  0]\n",
      "[ -1  0  0 -1 -1]\n",
      "[ -1 -1 -1  0 -1]\n",
      "[  0 -1  0  0 -1]\n",
      "[  0 -1 -1 -1  0]\n",
      "Number Of Islands:  2\n"
     ]
    }
   ],
   "source": [
    "show_log = True\n",
    "def print_2d(matrix):\n",
    "    for row in matrix:\n",
    "        print('[', end='')\n",
    "        for c in row:\n",
    "            print(f'{c:3}', sep=', ', end = '')\n",
    "        print(']')\n",
    "    \n",
    "    \n",
    "def flag_neighbors(matrix, i, j):\n",
    "    # print('flag_neighbors', i, j)\n",
    "    m = len(matrix)\n",
    "    n = len(matrix[0])\n",
    "    \n",
    "    # out of bounds\n",
    "    if (i < 0) or (i >= m) or (j < 0) or (j >= n):\n",
    "        return matrix\n",
    "    \n",
    "    # water or already marked\n",
    "    if matrix[i][j] == 0 or matrix[i][j] == -1:\n",
    "        return matrix\n",
    "    matrix[i][j] = -1\n",
    "    matrix = flag_neighbors(matrix, i-1, j)\n",
    "    matrix = flag_neighbors(matrix, i+1, j)\n",
    "    matrix = flag_neighbors(matrix, i, j-1)\n",
    "    matrix = flag_neighbors(matrix, i, j+1)\n",
    "    \n",
    "    return matrix\n",
    "\n",
    "def calculate_num_islands(matrix):\n",
    "    m = len(matrix)\n",
    "    n = len(matrix[0])\n",
    "    if show_log:\n",
    "        print(f'{m} * {n}')\n",
    "\n",
    "    # flag for visited islands \n",
    "    flags = [False] * (m*n)\n",
    "    num_islands = 0\n",
    "    \n",
    "    for i in range(m):\n",
    "        for j in range(n):\n",
    "            if matrix[i][j] == 1:\n",
    "                #recursively flag all neighbors\n",
    "                matirx = flag_neighbors(matrix, i, j)\n",
    "                if show_log:\n",
    "                    print(f'--finished checking neighbors of ({i},{j})')\n",
    "                    print_2d(matrix)\n",
    "                num_islands += 1\n",
    "    \n",
    "    return num_islands\n",
    "\n",
    "    \n",
    "matrix = [\n",
    "    [0, 0, 0, 1, 1],\n",
    "    [0, 1, 1, 1, 0],\n",
    "    [1, 0, 0, 1, 1],\n",
    "    [1, 1, 1, 0, 1],\n",
    "    [0, 1, 0, 0, 1],\n",
    "    [0, 1, 1, 1, 0]\n",
    "]\n",
    "print('Number Of Islands: ', calculate_num_islands(matrix))"
   ]
  },
  {
   "cell_type": "markdown",
   "id": "7f4fa02b-3221-4245-b448-d3fc4fb31504",
   "metadata": {},
   "source": [
    "## 32. Rotting Oranges `Medium`\n",
    "\n",
    "- You are given an m x n grid where each cell can have one of three values:\n",
    "- 0 representinganemptycell,\n",
    "- 1 representingafreshorange,or 2 representingarottenorange.\n",
    "- Return the minimum number of minutes that must elapse until no cell has a fresh orange. If this is impossible, return -1"
   ]
  },
  {
   "cell_type": "markdown",
   "id": "ecb9b6f7-619e-4aa5-bdbb-337e489fc1d9",
   "metadata": {},
   "source": [
    "## 33. Search in Rotated Sorted Array `Medium`\n",
    "- There is an integer array nums sorted in ascending order (with distinct values).\n",
    "- Given the array nums after the possible rotation and an integer target return the index of target if it is in nums , or -1 is not in nums\n",
    "- You must write an algorithm with O(log n) runtime complexity.\n"
   ]
  },
  {
   "cell_type": "markdown",
   "id": "4d14f108-3362-4d21-97db-3efa64ba5acb",
   "metadata": {},
   "source": [
    "## 34. Combination Sum `Medium`\n",
    "\n",
    "- Given an array of distinct integers candidates and a target integer candidates target return a list of all unique combinations of candidates where\n",
    "- the chosen numbers sum to target You may return the combinations in any order."
   ]
  },
  {
   "cell_type": "markdown",
   "id": "0e64469d-4ef8-45ac-b18a-f0426743da8d",
   "metadata": {},
   "source": [
    "## 35. Permutations `Medium`\n",
    "\n",
    "- Given an array nums of distinct integers, return all the possible permutations. You can return the answer in any order.\n"
   ]
  },
  {
   "cell_type": "markdown",
   "id": "3e06940a-4868-44e0-bdf5-e6a2057cdcdf",
   "metadata": {},
   "source": [
    "## 36. Merge Intervals `Medium`\n",
    "\n",
    "- Given an array of intervals where intervals[i] = [starti, endi] merge all overlapping intervals, and return an array of the non-overlapping intervals that cover all the intervals in the input."
   ]
  },
  {
   "cell_type": "markdown",
   "id": "9b16a2a6-62d9-4a5e-90f1-5cc336e29b0a",
   "metadata": {},
   "source": [
    "## 37. Lowest Common Ancestor of a Binary Tree `Medium`\n",
    "\n",
    "- Given a binary tree, find the lowest common ancestor (LCA) of two given nodes in the tree."
   ]
  },
  {
   "cell_type": "markdown",
   "id": "77e74981-f7e8-4c09-a03a-e8a9e60d0fe7",
   "metadata": {},
   "source": [
    "## 38. Time Based Key-Value Store\n",
    "- Implement the TimeMap class:\n",
    "- TimeMap() Initializes the trie object.\n",
    "- void set(String key, String value, int timestamp) String get(String key, int timestamp)\n"
   ]
  },
  {
   "cell_type": "markdown",
   "id": "5b3ff28f-1def-42f9-a73b-0e91439c922e",
   "metadata": {},
   "source": [
    "## 39. Accounts Merge `Medium`\n",
    "\n",
    "- Given a list of accounts where each element accounts[i] is a list of strings where the first element accounts[i][0] is a name, and the rest of the elements are emails representing emails of the account.\n",
    "- After merging the accounts, return the accounts in the following format: the first element of each account is the name, and the rest of the elements are emails in sorted order. The accounts themselves can be returned in any order."
   ]
  },
  {
   "cell_type": "markdown",
   "id": "6e81c2cc-1b53-4bb8-a0d9-f90a27755ac8",
   "metadata": {},
   "source": [
    "## 40. Sort Colors `Medium`\n",
    "\n",
    "- Given an array nums with n objects colored red, white, or blue, sort them in-place so that objects of the same color are adjacent, with the colors in the order red, white, and blue.\n",
    "- You must solve this problem without using the library's sort function.\n"
   ]
  }
 ],
 "metadata": {
  "kernelspec": {
   "display_name": "Python 3 (ipykernel)",
   "language": "python",
   "name": "python3"
  },
  "language_info": {
   "codemirror_mode": {
    "name": "ipython",
    "version": 3
   },
   "file_extension": ".py",
   "mimetype": "text/x-python",
   "name": "python",
   "nbconvert_exporter": "python",
   "pygments_lexer": "ipython3",
   "version": "3.9.7"
  }
 },
 "nbformat": 4,
 "nbformat_minor": 5
}
