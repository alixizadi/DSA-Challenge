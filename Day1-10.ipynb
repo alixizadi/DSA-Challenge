{
 "cells": [
  {
   "cell_type": "markdown",
   "id": "f6868480-1056-4787-963b-e2a134d96295",
   "metadata": {
    "tags": []
   },
   "source": [
    "## 1. Two Sum `Easy`\n",
    "\n",
    "- Given an array of integers nums and an integer target , return indices of the two numbers such that they add up to target\n",
    "- You may assume that each input would have exactly one solution, and you may not use the same element twice.\n",
    "- You can return the answer in any order."
   ]
  },
  {
   "cell_type": "code",
   "execution_count": 8,
   "id": "fe394b7a-f343-45e3-8a24-3ff92fbf8e54",
   "metadata": {},
   "outputs": [
    {
     "name": "stdout",
     "output_type": "stream",
     "text": [
      "(6, 9)\n",
      "(11, 9)\n",
      "(2, 18)\n",
      "False\n"
     ]
    }
   ],
   "source": [
    "def two_sum(arr,s):\n",
    "    comp_arr = [] #complement of each element as we go on\n",
    "    for a in arr:\n",
    "        if a in comp_arr:\n",
    "            return a,s-a\n",
    "        comp_arr.append(s-a)\n",
    "    \n",
    "    return False\n",
    "\n",
    "print(two_sum([1,8,3,9,11,6],15))\n",
    "print(two_sum([1,8,3,9,11,6],20))\n",
    "print(two_sum([1,18,2,9,13,6],20))\n",
    "print(two_sum([1,8],20))"
   ]
  },
  {
   "cell_type": "markdown",
   "id": "8c0e522f-e38f-4794-aa72-6ce1fa443d46",
   "metadata": {},
   "source": [
    "## 2. Valid Parentheses `Easy`\n",
    "\n",
    "- Given a string s containing just the characters '(' , ')' , '{' , '}' , '[' & ']' , determine if the input string is valid.\n",
    "- An input string is valid if:\n",
    "\n",
    "> - Open brackets must be closed by the same type of brackets.\n",
    ">\n",
    "> - Open brackets must be closed in the correct order.\n",
    ">\n",
    "> - Every close bracket has a corresponding open bracket of the same type."
   ]
  },
  {
   "cell_type": "code",
   "execution_count": 23,
   "id": "2e498069-0297-4f1e-a468-82dd3786f68c",
   "metadata": {},
   "outputs": [
    {
     "name": "stdout",
     "output_type": "stream",
     "text": [
      "True\n",
      "False\n",
      "True\n",
      "False\n",
      "False\n"
     ]
    }
   ],
   "source": [
    "\n",
    "def valid_parantheses(brackets):\n",
    "    stack = list()\n",
    "\n",
    "    for b in brackets:\n",
    "        if len(stack) > 0:\n",
    "            last_item = stack[-1]\n",
    "            if  (b == '}' and last_item == '{') or \\\n",
    "                (b == ')' and last_item == '(') or \\\n",
    "                (b == ']' and last_item == '['):\n",
    "                stack.pop()\n",
    "                continue\n",
    "        elif b in ')}]':\n",
    "            return False\n",
    "        \n",
    "        stack.append(b)\n",
    "        \n",
    "    return len(stack) == 0\n",
    "    \n",
    "print(valid_parantheses('{}'))\n",
    "print(valid_parantheses('[](){)'))\n",
    "print(valid_parantheses('[{(){}{}}]()'))\n",
    "print(valid_parantheses('[{(){[}{]}}]()'))\n",
    "print(valid_parantheses('[{(){}{}}]{(})'))"
   ]
  },
  {
   "cell_type": "markdown",
   "id": "7ea44ebf-d75b-4551-95fa-a59304e9dff5",
   "metadata": {},
   "source": [
    "## 3. Merge Two Sorted Lists `Easy`\n",
    "- You are given the heads of two sorted linked lists list1 and list2 .\n",
    "- Merge the two lists in a one sorted list. The list should be made by splicing together the nodes of the first two lists.\n",
    "- Return the head of the merged linked list."
   ]
  },
  {
   "cell_type": "code",
   "execution_count": 24,
   "id": "c25b3fc7-2783-4a30-beb5-222c1ec293d8",
   "metadata": {},
   "outputs": [
    {
     "name": "stdout",
     "output_type": "stream",
     "text": [
      "1 1 2 3 4 4 "
     ]
    }
   ],
   "source": [
    "class ListNode:\n",
    "    def __init__(self, val=0, next=None):\n",
    "        self.val = val\n",
    "        self.next = next\n",
    "\n",
    "def mergeTwoLists(list1, list2):\n",
    "    dummy = ListNode(0)\n",
    "    current = dummy\n",
    "\n",
    "    while list1 and list2:\n",
    "        if list1.val <= list2.val:\n",
    "            current.next = list1\n",
    "            list1 = list1.next\n",
    "        else:\n",
    "            current.next = list2\n",
    "            list2 = list2.next\n",
    "        current = current.next\n",
    "\n",
    "    # Append the remaining nodes of list1 or list2\n",
    "    if list1:\n",
    "        current.next = list1\n",
    "    if list2:\n",
    "        current.next = list2\n",
    "\n",
    "    return dummy.next\n",
    "\n",
    "\n",
    "# Create linked lists list1: 1->2->4 and list2: 1->3->4\n",
    "list1 = ListNode(1)\n",
    "list1.next = ListNode(2)\n",
    "list1.next.next = ListNode(4)\n",
    "\n",
    "list2 = ListNode(1)\n",
    "list2.next = ListNode(3)\n",
    "list2.next.next = ListNode(4)\n",
    "\n",
    "\n",
    "\n",
    "merged_list = mergeTwoLists(list1, list2)\n",
    "\n",
    "\n",
    "while merged_list:\n",
    "    print(merged_list.val, end=\" \")\n",
    "    merged_list = merged_list.next\n"
   ]
  },
  {
   "cell_type": "markdown",
   "id": "85da9da5-a4d9-4aca-8497-5274aed2d3ec",
   "metadata": {},
   "source": [
    "## 4. Best Time to Buy and Sell Stock `Easy`\n",
    "- You are given an array prices where prices[i] is the price of a given stock on the ith day.\n",
    "- You want to maximize your profit by choosing a single day to buy one stock and choosing a different day in the future to sell that stock.\n",
    "- Return the maximum profit you can achieve from this transaction. If you cannot achieve any profit, return 0"
   ]
  },
  {
   "cell_type": "code",
   "execution_count": 65,
   "id": "64a3b318-311c-4225-a772-798fcc8a88bd",
   "metadata": {},
   "outputs": [
    {
     "name": "stdout",
     "output_type": "stream",
     "text": [
      "45\n"
     ]
    },
    {
     "data": {
      "image/png": "[encoded data removed]",
      "text/plain": [
       "<Figure size 640x480 with 1 Axes>"
      ]
     },
     "metadata": {},
     "output_type": "display_data"
    }
   ],
   "source": [
    "prices = [263,264,265,260,259,255,256,258,267,270,280,269,260,275,280,273,290,300,295]\n",
    "import matplotlib.pyplot as plt\n",
    "plt.plot(arr)\n",
    "\n",
    "def get_max_profit(prices):\n",
    "    if len(prices) == 0:\n",
    "        return 0\n",
    "    \n",
    "    min_price = float('inf')  # Initialize min_price with maximum possible value\n",
    "    max_profit = 0\n",
    "\n",
    "    for price in prices:\n",
    "        if price < min_price:\n",
    "            min_price = price\n",
    "        else:\n",
    "            potential_profit = price - min_price\n",
    "            if potential_profit > max_profit:\n",
    "                max_profit = potential_profit\n",
    "\n",
    "    return max_profit\n",
    "\n",
    "\n",
    "profit = get_max_profit(prices)\n",
    "print(profit) \n"
   ]
  },
  {
   "cell_type": "markdown",
   "id": "4ec9cbb0-aa94-4677-ac76-cc51caa82ddc",
   "metadata": {},
   "source": [
    "## 5. Valid Palindrome `Easy`\n",
    "- A phrase is a palindrome if, after converting all uppercase letters into lowercase letters and removing all non-alphanumeric characters, it reads the same forward and backward. Alphanumeric characters include letters and numbers.\n",
    "- Given a string s return true if it is a palindrome, or false otherwise."
   ]
  },
  {
   "cell_type": "code",
   "execution_count": 30,
   "id": "696f163d-2feb-40d7-b6c8-8444f9370b16",
   "metadata": {},
   "outputs": [
    {
     "name": "stdout",
     "output_type": "stream",
     "text": [
      "True\n",
      "False\n",
      "True\n"
     ]
    }
   ],
   "source": [
    "def is_palindrome(phrase):\n",
    "    if len(phrase) <= 1:\n",
    "        return True\n",
    "    if phrase[0] != phrase[-1]: #check case sensitivity\n",
    "        return False\n",
    "    return is_palindrome(phrase[1:len(phrase)-1])\n",
    "\n",
    "print(is_palindrome(''))\n",
    "print(is_palindrome('ab'))\n",
    "print(is_palindrome('AbcbA'))"
   ]
  },
  {
   "cell_type": "markdown",
   "id": "71e853f4-7650-4f08-bd2c-1806c13f5e21",
   "metadata": {},
   "source": [
    "## 6. Invert Binary Tree `Easy`\n",
    "- Given the root of a binary tree, invert the tree, and return its root\n",
    "\n",
    "- For example, let's consider the following binary tree:\n",
    "\n",
    "```\n",
    "     4\n",
    "   /   \\\n",
    "  2     7\n",
    " / \\   / \\\n",
    "1   3 6   9\n",
    "```\n",
    "\n",
    "After inverting the tree, the resulting binary tree would look like this:\n",
    "\n",
    "```\n",
    "     4\n",
    "   /   \\\n",
    "  7     2\n",
    " / \\   / \\\n",
    "9   6 3   1\n",
    "```\n"
   ]
  },
  {
   "cell_type": "code",
   "execution_count": 70,
   "id": "546fe729-40fc-42c5-8e91-2919d6b768fa",
   "metadata": {},
   "outputs": [
    {
     "name": "stdout",
     "output_type": "stream",
     "text": [
      "1 2 3 4 6 7 9 \n",
      "9 7 6 4 3 2 1 "
     ]
    }
   ],
   "source": [
    "class TreeNode:\n",
    "    def __init__(self,val = 0, left = None, right = None):\n",
    "        self.val = val\n",
    "        self.left = left\n",
    "        self.right = right\n",
    "\n",
    "def invertTree(root):\n",
    "    if not root:\n",
    "        return None\n",
    "\n",
    "    # Swap the left and right subtrees\n",
    "    root.left, root.right = root.right, root.left\n",
    "\n",
    "    # Recursively invert the left and right subtrees\n",
    "    invertTree(root.left)\n",
    "    invertTree(root.right)\n",
    "\n",
    "    return root\n",
    "\n",
    "root = TreeNode(4)\n",
    "root.left = TreeNode(2)\n",
    "root.right = TreeNode(7)\n",
    "root.left.left = TreeNode(1)\n",
    "root.left.right = TreeNode(3)\n",
    "root.right.left = TreeNode(6)\n",
    "root.right.right = TreeNode(9)\n",
    "\n",
    "\n",
    "\n",
    "def inorder_traversal(node):\n",
    "    if node:\n",
    "        inorder_traversal(node.left)\n",
    "        print(node.val, end=' ')\n",
    "        inorder_traversal(node.right)\n",
    "\n",
    "inorder_traversal(root)\n",
    "print()\n",
    "inverted_root = invertTree(root)\n",
    "inorder_traversal(inverted_root)\n"
   ]
  },
  {
   "cell_type": "markdown",
   "id": "291c4f6b-a37f-448f-8b38-591236393510",
   "metadata": {},
   "source": [
    "## 7. Valid Anagram `Easy`\n",
    "- Given two strings s and t , return true if t is an anagram of s , and false otherwise.\n",
    "- An Anagram is a word or phrase formed by rearranging the letters of a\n",
    " different word or phrase, typically using all the original letters exactly once."
   ]
  },
  {
   "cell_type": "code",
   "execution_count": 76,
   "id": "d4de09c0-a111-4313-8f6f-51effb0c3ab0",
   "metadata": {},
   "outputs": [
    {
     "name": "stdout",
     "output_type": "stream",
     "text": [
      "True\n",
      "True\n",
      "True\n",
      "False\n"
     ]
    }
   ],
   "source": [
    "def is_anagram(s,t):\n",
    "    s = s.lower().replace(' ','')\n",
    "    t = t.lower().replace(' ','')\n",
    "    \n",
    "    if len(s) != len(t):\n",
    "        return False\n",
    "    return sorted(s) == sorted(t)\n",
    "\n",
    "print(is_anagram('h e l l o' ,'holle'))\n",
    "print(is_anagram('' ,''))\n",
    "print(is_anagram('abc defg' ,'G FEDCBA'))\n",
    "print(is_anagram('bca e 00' ,'00 cabd'))"
   ]
  },
  {
   "cell_type": "markdown",
   "id": "017a50f5-d4b5-4bf9-a71a-f4042c9bc412",
   "metadata": {},
   "source": [
    "## 8. Binary Search `Easy`\n",
    "- Given an array of integers nums which is sorted in ascending order, and an integer target , write a function to search target in nums . If target exists,then return its index. Otherwise,return -1 .\n",
    "- You must write an algorithm with 0(log n) runtime complexity."
   ]
  },
  {
   "cell_type": "code",
   "execution_count": 60,
   "id": "a41c48c5-3617-40ef-aa5e-261849e03cdf",
   "metadata": {},
   "outputs": [
    {
     "name": "stdout",
     "output_type": "stream",
     "text": [
      "found 9 @ 7\n"
     ]
    },
    {
     "data": {
      "text/plain": [
       "7"
      ]
     },
     "execution_count": 60,
     "metadata": {},
     "output_type": "execute_result"
    }
   ],
   "source": [
    "def binary_search(arr,target):\n",
    "    if len(arr) == 0:\n",
    "        return -1\n",
    "    if len(arr) == 1:\n",
    "        return 0 if arr[0] == target else -1\n",
    "\n",
    "    left = 0\n",
    "    right = len(arr) -1\n",
    "\n",
    "    while right >= left:\n",
    "        middle = (left + right)//2\n",
    "        if target  == arr[middle]:\n",
    "            print(f'found {target} @ {middle}')\n",
    "            return middle\n",
    "        elif target > arr[middle]:\n",
    "            # search in right half\n",
    "            left = middle + 1\n",
    "        elif target < arr[middle]:\n",
    "            # search in left half\n",
    "            right = middle - 1\n",
    "\n",
    "    print(f'{target} not found')\n",
    "    return -1\n",
    "\n",
    "binary_search([1,2,3,4,5,6,7,9,10,17,21,40,99] , 9)"
   ]
  },
  {
   "cell_type": "markdown",
   "id": "64581f09-cdc5-4787-bd1f-1cde6de358aa",
   "metadata": {},
   "source": [
    "## 9. Flood Fill `Easy`\n",
    "- An image is represented by an m x n integer grid image where image[i][j] represents the pixel value of the image.\n",
    "- You are also given three integers sr , sc and color . You should perform a flood fill on the image starting from the pixel image[sr][sc] .\n",
    "- Return the modified image after performing the flood fill."
   ]
  },
  {
   "cell_type": "code",
   "execution_count": 83,
   "id": "d81736d4-ba31-4b44-ad9a-ab2e4b4699b5",
   "metadata": {},
   "outputs": [],
   "source": [
    "def floodFill(image, sr, sc, newColor):\n",
    "    if image[sr][sc] == newColor:\n",
    "        return image\n",
    "\n",
    "    # Get the original color of the starting pixel\n",
    "    originalColor = image[sr][sc]\n",
    "\n",
    "    # Call the recursive flood fill function\n",
    "    fill(image, sr, sc, originalColor, newColor)\n",
    "\n",
    "    return image\n",
    "\n",
    "def fill(image, sr, sc, originalColor, newColor):\n",
    "    if sr < 0 or sr >= len(image) or sc < 0 or sc >= len(image[0]):\n",
    "        # Out of bounds\n",
    "        return\n",
    "\n",
    "    if image[sr][sc] != originalColor:\n",
    "        # Current pixel does not match the original color, return\n",
    "        return\n",
    "\n",
    "    # Update the color of the current pixel\n",
    "    image[sr][sc] = newColor\n",
    "\n",
    "    fill(image, sr - 1, sc, originalColor, newColor)  # Up\n",
    "    fill(image, sr + 1, sc, originalColor, newColor)  # Down\n",
    "    fill(image, sr, sc - 1, originalColor, newColor)  # Left\n",
    "    fill(image, sr, sc + 1, originalColor, newColor)  # Right\n",
    "\n",
    "def print_image(image):\n",
    "    for row in image:\n",
    "        print(row)"
   ]
  },
  {
   "cell_type": "code",
   "execution_count": 84,
   "id": "bbc4073f-62a9-423a-8020-0023c99ebd6c",
   "metadata": {},
   "outputs": [
    {
     "name": "stdout",
     "output_type": "stream",
     "text": [
      "Original Image:\n",
      "[1, 1, 1, 1]\n",
      "[1, 1, 0, 1]\n",
      "[0, 0, 1, 0]\n",
      "[1, 1, 1, 1]\n",
      "\n",
      "Filled Image:\n",
      "[2, 2, 2, 2]\n",
      "[2, 2, 0, 2]\n",
      "[0, 0, 1, 0]\n",
      "[1, 1, 1, 1]\n"
     ]
    }
   ],
   "source": [
    "image = [\n",
    "    [1, 1, 1, 1],\n",
    "    [1, 1, 0, 1],\n",
    "    [0, 0, 1, 0],\n",
    "    [1, 1, 1, 1]\n",
    "]\n",
    "\n",
    "sr = 1\n",
    "sc = 3\n",
    "\n",
    "newColor = 2\n",
    "\n",
    "print(\"Original Image:\")\n",
    "print_image(image)\n",
    "\n",
    "modified_image = floodFill(image, sr, sc, newColor)\n",
    "\n",
    "print()\n",
    "print(\"Filled Image:\")\n",
    "print_image(modified_image)\n"
   ]
  },
  {
   "cell_type": "markdown",
   "id": "b6db11f3-37ad-4f99-b323-d22320b232f8",
   "metadata": {},
   "source": [
    "## 10. Lowest Common Ancestor of a Binary Search Tree `Easy`\n",
    "\n",
    "- Given a binary search tree (BST), find the lowest common ancestor (LCA) node of two given nodes in the BST.\n",
    "- According to the definition of LCA on Wikipedia: “The lowest common ancestor is defined between two nodes p and q as the lowest node in T\n",
    "that has both p and q as descendants (where we allow a node to be a descendant of itself).”"
   ]
  },
  {
   "cell_type": "code",
   "execution_count": 78,
   "id": "d81764dd-b188-44d7-8c7b-d772a16edea5",
   "metadata": {},
   "outputs": [],
   "source": [
    "class BinaryTree():\n",
    "    \n",
    "    \n",
    "    def __init__(self,root = None):\n",
    "        self.root = root\n",
    "    \n",
    "    \n",
    "    def add_node(self, data):\n",
    "        if isinstance(data, int):\n",
    "            data = TreeNode(data)\n",
    "        elif isinstance(data, TreeNode):\n",
    "            pass\n",
    "        else:\n",
    "            raise Exception(\"Type Not Supported Error\")\n",
    "         \n",
    "        if self.root == None:\n",
    "            self.root = data\n",
    "        else:\n",
    "            self.root.add_child(data)\n",
    "            \n",
    "            \n",
    "    def lca(self,a,b):\n",
    "        return self.lca_node(root,a,b)\n",
    "    \n",
    "    \n",
    "    def lca_node(self,node,a,b):\n",
    "        if a <= node.data <= b or b <= node.data <= a:\n",
    "            return node.data\n",
    "        elif a < node.data and b < node.data:\n",
    "            return self.lca_node(node.left,a,b)\n",
    "        elif a > node.data and b > node.data:\n",
    "            return self.lca_node(node.right,a,b)\n",
    "\n",
    "        \n",
    "    def get_height(self, node):\n",
    "        if node == None:\n",
    "            return 0\n",
    "        \n",
    "        return 1 + max(self.get_height(node.right), self.get_height(node.left))\n",
    "\n",
    "    \n",
    "    def is_balanced(self):\n",
    "        return self.check_balanced(self.root)\n",
    "    \n",
    "    \n",
    "    def check_balanced(self, node):\n",
    "\n",
    "        if node == None: #empty node is balanced\n",
    "            return True\n",
    "        \n",
    "        left_tree_height = self.get_height(node.left)\n",
    "        right_tree_height = self.get_height(node.right)\n",
    "        difference = abs(left_tree_height - right_tree_height)\n",
    "        \n",
    "        if difference > 1:\n",
    "            return False\n",
    "        \n",
    "        return self.check_balanced(node.left) and self.check_balanced(node.right)\n",
    "        \n",
    "        \n",
    "    def __str__(self):\n",
    "        if self.root == None:\n",
    "            return 'Empty Tree'\n",
    "        else:\n",
    "            return str(self.root)\n",
    "            \n",
    "class TreeNode():\n",
    "    \n",
    "    def __init__(self, data,left = None, right = None):\n",
    "        self.data = data\n",
    "        self.left = left\n",
    "        self.right = right\n",
    "\n",
    "    \n",
    "    def add_child(self, data):\n",
    "        if isinstance(data, int):\n",
    "            data = TreeNode(data)\n",
    "        elif isinstance(data, TreeNode):\n",
    "            pass\n",
    "        else:\n",
    "            raise Exception(\"Type Not Supported Error\")\n",
    "            \n",
    "        if data > self:\n",
    "            self.add_right(data)\n",
    "        elif data < self:\n",
    "            self.add_left(data)\n",
    "        else:\n",
    "            raise Exception(\"Duplicate Value Error\")\n",
    "          \n",
    "    def add_left(self, data):\n",
    "        if self.left == None:\n",
    "            self.left = data\n",
    "        else:\n",
    "            self.left.add_child(data)\n",
    "    \n",
    "    def add_right(self, data):\n",
    "        \n",
    "        if self.right == None:\n",
    "            self.right = data\n",
    "        else:\n",
    "            self.right.add_child(data)\n",
    "            \n",
    "    def __eq__(self, other):\n",
    "        if isinstance(other, TreeNode):\n",
    "            return self.data == other.data\n",
    "        return False\n",
    "\n",
    "    def __lt__(self, other):\n",
    "        if isinstance(other, TreeNode):\n",
    "            return self.data < other.data\n",
    "        raise TypeError(\"Cannot compare TreeNode instance with non-TreeNode instance\")\n",
    "\n",
    "    def __gt__(self, other):\n",
    "        if isinstance(other, TreeNode):\n",
    "            return self.data > other.data\n",
    "        raise TypeError(\"Cannot compare TreeNode instance with non-TreeNode instance\")\n",
    "\n",
    "    def __str__(self):\n",
    "        output = ''\n",
    "        output = output + str(self.data) + ' '\n",
    "        if self.left != None:\n",
    "            output = output + str(self.left)\n",
    "        \n",
    "        if self.right != None:\n",
    "            output = output + str(self.right)\n",
    "        return output\n"
   ]
  },
  {
   "cell_type": "code",
   "execution_count": 79,
   "id": "2a62bd49-df26-42fb-acf5-aee1a0513da7",
   "metadata": {},
   "outputs": [
    {
     "name": "stdout",
     "output_type": "stream",
     "text": [
      "4 2 1 3 7 6 9 \n",
      "4\n",
      "2\n",
      "2\n",
      "4\n",
      "7\n"
     ]
    }
   ],
   "source": [
    "tree = BinaryTree()\n",
    "root = TreeNode(4)\n",
    "tree.add_node(root)\n",
    "tree.add_node(TreeNode(2))\n",
    "tree.add_node(TreeNode(3))\n",
    "tree.add_node(7)\n",
    "root.add_child(9)\n",
    "root.add_child(1)\n",
    "root.add_child(TreeNode(6))\n",
    "\n",
    "print(tree)\n",
    "\n",
    "print(tree.lca(2,9)) #4\n",
    "print(tree.lca(1,3)) #2\n",
    "print(tree.lca(2,3)) #2\n",
    "print(tree.lca(3,6)) #4\n",
    "print(tree.lca(6,9)) #7\n"
   ]
  },
  {
   "cell_type": "markdown",
   "id": "aa9eb07d-4515-4bc6-8d89-ff3f1efdb4f1",
   "metadata": {},
   "source": [
    "## 11. Balanced Binary Tree `Easy`\n",
    "- Given a binary tree, determine if it is height-balanced."
   ]
  },
  {
   "cell_type": "code",
   "execution_count": 80,
   "id": "b4377c4a-9f91-4238-a000-88595af70f64",
   "metadata": {},
   "outputs": [
    {
     "name": "stdout",
     "output_type": "stream",
     "text": [
      "4 2 1 3 7 6 9 \n",
      "is balanced? True\n",
      "4 2 1 3 7 6 9 11 12 13 \n",
      "is balanced? False\n"
     ]
    }
   ],
   "source": [
    "# implemented in previous answer #10\n",
    "tree = BinaryTree()\n",
    "root = TreeNode(4)\n",
    "tree.add_node(root)\n",
    "tree.add_node(TreeNode(2))\n",
    "tree.add_node(TreeNode(3))\n",
    "tree.add_node(7)\n",
    "root.add_child(9)\n",
    "root.add_child(1)\n",
    "root.add_child(TreeNode(6))\n",
    "\n",
    "print(tree)\n",
    "print('is balanced?' , tree.is_balanced())\n",
    "\n",
    "root.add_child(11)\n",
    "root.add_child(12)\n",
    "root.add_child(13)\n",
    "print(tree)\n",
    "print('is balanced?' , tree.is_balanced())\n"
   ]
  },
  {
   "cell_type": "markdown",
   "id": "9f71ddd5-3863-42fc-9ca2-e230a88c84ca",
   "metadata": {
    "tags": []
   },
   "source": [
    "## 12. Linked List Cycle `Easy`\n",
    "- Given head , the head of a linked list, determine if the linked list has a cycle in it.\n",
    "- There is a cycle in a linked list if there is some node in the list that can be reached again by continuously following the next pointer . Internally, pos\n",
    "- is used to denote the index of the node that tail's next pointer is connected to. Note that pos is not passed as a parameter.\n",
    "- Return true if there is a cycle in the linked list. Otherwise, return false ."
   ]
  },
  {
   "cell_type": "code",
   "execution_count": 99,
   "id": "6c9cc068-a269-468f-abfd-d7d5ba729a3e",
   "metadata": {},
   "outputs": [],
   "source": [
    "class LinkedList():\n",
    "    \n",
    "    def __init__(self, head = None):\n",
    "        self.head = head\n",
    "    \n",
    "    def add_item(self,item):\n",
    "        if not isinstance(item, LinkItem):\n",
    "            item = LinkItem(item)\n",
    "\n",
    "        if self.head == None:\n",
    "            self.head = item\n",
    "            return\n",
    "        \n",
    "        head = self.head\n",
    "        while head.next != None :\n",
    "            if head.next == self.head:\n",
    "                print('Loop')\n",
    "                break\n",
    "            head = head.next\n",
    "\n",
    "        head.next = item\n",
    "        if head.next == self.head: # Loop Case\n",
    "            item.next = self.head\n",
    "\n",
    "            \n",
    "    def has_loop(self):\n",
    "        if self.head == None:\n",
    "            return False\n",
    "        \n",
    "        head = self.head\n",
    "        while head.next != None :\n",
    "            if head.next == self.head:\n",
    "                return True\n",
    "            head = head.next\n",
    "        return False\n",
    "    def create_loop(self):\n",
    "        if self.head == None:\n",
    "            raise Exception(\"No Item in List\")\n",
    "        \n",
    "        head = self.head\n",
    "        while head.next != None :\n",
    "            if head.next == self.head: #already has loop\n",
    "                return\n",
    "            head = head.next\n",
    "        head.next = self.head\n",
    "\n",
    "    def __str__(self):\n",
    "        output = ''\n",
    "        next_item = self.head\n",
    "        while next_item != None:\n",
    "            output += str(next_item) + ' '\n",
    "            next_item = next_item.next\n",
    "            if next_item == self.head:\n",
    "                break\n",
    "        return output\n",
    "\n",
    "class LinkItem():\n",
    "    \n",
    "    def __init__(self,data):\n",
    "        self.data = data\n",
    "        self.next = None\n",
    "    \n",
    "    def __str__(self):\n",
    "        return str(self.data)\n",
    "        "
   ]
  },
  {
   "cell_type": "code",
   "execution_count": 100,
   "id": "5428aad0-98b9-48ad-a751-3ce7142f5e6a",
   "metadata": {},
   "outputs": [
    {
     "name": "stdout",
     "output_type": "stream",
     "text": [
      "1 2 \n",
      "1 2 3 5 \n",
      "HasLoop? False\n",
      "1 2 3 5 \n",
      "HasLoop? True\n"
     ]
    }
   ],
   "source": [
    "ll = LinkedList()\n",
    "ll.add_item(1)\n",
    "ll.add_item(2)\n",
    "print(ll)\n",
    "ll.add_item(3)\n",
    "ll.add_item(5)\n",
    "print(ll)\n",
    "print('HasLoop?', ll.has_loop())\n",
    "ll.create_loop()\n",
    "print(ll)\n",
    "print('HasLoop?', ll.has_loop())"
   ]
  }
 ],
 "metadata": {
  "kernelspec": {
   "display_name": "Python 3 (ipykernel)",
   "language": "python",
   "name": "python3"
  },
  "language_info": {
   "codemirror_mode": {
    "name": "ipython",
    "version": 3
   },
   "file_extension": ".py",
   "mimetype": "text/x-python",
   "name": "python",
   "nbconvert_exporter": "python",
   "pygments_lexer": "ipython3",
   "version": "3.9.7"
  }
 },
 "nbformat": 4,
 "nbformat_minor": 5
}
