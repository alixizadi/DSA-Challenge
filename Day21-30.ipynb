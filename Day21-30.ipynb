{
 "cells": [
  {
   "cell_type": "markdown",
   "id": "5d13a53a-b8b3-42ac-ad2b-28ad1b13c47f",
   "metadata": {},
   "source": [
    "## 21. 3Sum `Medium`\n",
    "- Given an integer array nums, return all the triplets `[nums[i], nums[j], nums[k]]` such that `i != j , i != k and j != k` , and nums[i] + nums[j] + nums[k] == 0\n",
    "- Notice that the solution set must not contain duplicate triplets.\n"
   ]
  },
  {
   "cell_type": "markdown",
   "id": "78b68e99-c513-4838-bf42-49e3826254c2",
   "metadata": {},
   "source": [
    "## 22. Binary Tree Level Order Traversal `Medium`\n",
    "- Given the root of a binary tree, return the level order traversal of its nodes' values. (i.e., from left to right, level by level)."
   ]
  },
  {
   "cell_type": "markdown",
   "id": "532820af-64cb-434e-9fbb-e110da967822",
   "metadata": {},
   "source": [
    "## 23. Clone Graph `Medium`\n",
    "- Given a reference of a node in a connected undirected graph, Return a deep copy (clone) of the graph.\n"
   ]
  },
  {
   "cell_type": "markdown",
   "id": "9ec0254a-b474-4248-ae95-a283da43fb6b",
   "metadata": {},
   "source": [
    "## 24. Evaluate Reverse Polish Notation `Medium`\n",
    "- You are given an array of strings tokens that represents an arithmetic expression in a Reverse Polish Notation.\n",
    "- Evaluate the expression. Return an integer that represents the value of the expression.\n"
   ]
  },
  {
   "cell_type": "markdown",
   "id": "e6269769-55ad-48cb-86c9-9ed36bd2ecd3",
   "metadata": {},
   "source": [
    "## 25. Course Schedule `Medium`\n",
    "- There are a total of numCourses courses you have to take, labeled from 0 to numCourses 1 .\n",
    "- You are given an array prerequisites where prerequisites[i] = [ai, bi] indicates that you must take course bi first if you want to take course ai .\n",
    "- Return true if you can finish all courses. Otherwise, return false ."
   ]
  },
  {
   "cell_type": "markdown",
   "id": "93145d9c-68a7-44db-8351-e22e6c02cc78",
   "metadata": {},
   "source": [
    "## 26. Implement Trie (Prefix Tree) `Medium`\n",
    "\n",
    "- Implement the Trie class:\n",
    "\n",
    "- Trie() Initializes the trie object.\n",
    "- void insert(String word) Inserts the string word into the trie.\n",
    "- boolean search(String word) Returns true if the string word is in the trie boolean startsWith(String prefix) Returns true if there is a previously\n",
    "- inserted string word that has the prefix.\n"
   ]
  },
  {
   "cell_type": "markdown",
   "id": "c76d5f7e-b081-4edb-90d5-65acff76f9a9",
   "metadata": {},
   "source": [
    "## 27. Coin Change `Medium`\n",
    "- You are given an integer array coins representing coins of different denominations and an integer amount representing a total amount of money.\n",
    "- Return the fewest number of coins that you need to make up that amount. If that amount of money cannot be made up by any combination of the coins, return -1"
   ]
  },
  {
   "cell_type": "markdown",
   "id": "b59a0cf3-f03a-4787-aec5-06c9488fb94b",
   "metadata": {},
   "source": [
    "## 28. Product of Array Except Self `Medium`\n",
    "- Given an integer array nums return an array answer such that `answer[i]` is equal to the product of all the elements of nums except `nums[i]`\n",
    "- You must write an algorithm that runs in `O(n)` time and without using the division operation."
   ]
  },
  {
   "cell_type": "markdown",
   "id": "d4dccced-188d-4f2a-b979-6bef88aaaf4e",
   "metadata": {},
   "source": [
    "## 29. Min Stack `Medium`\n",
    "- Design a stack that supports push, pop, top, and retrieving the minimum element in constant time.\n",
    "- Implement the MinStack class:\n",
    "- MinStack() initializes the stack object.\n",
    "- void push(int val) pushes the element val onto the stack. void pop() removes the element on the top of the stack.\n",
    "- int top() gets the top element of the stack.\n",
    "- int getMin() retrieves the minimum element in the stack.\n",
    "- You must implement a solution with O(1) time complexity for each function.:"
   ]
  },
  {
   "cell_type": "markdown",
   "id": "5c5448c8-fbe6-4626-a899-0c2845fb3f04",
   "metadata": {},
   "source": [
    "## 30. Validate Binary Search Tree `Medium`\n",
    "- Given the root of a binary tree, determine if it is a valid binary search tree (BST).\n"
   ]
  }
 ],
 "metadata": {
  "kernelspec": {
   "display_name": "Python 3 (ipykernel)",
   "language": "python",
   "name": "python3"
  },
  "language_info": {
   "codemirror_mode": {
    "name": "ipython",
    "version": 3
   },
   "file_extension": ".py",
   "mimetype": "text/x-python",
   "name": "python",
   "nbconvert_exporter": "python",
   "pygments_lexer": "ipython3",
   "version": "3.9.7"
  }
 },
 "nbformat": 4,
 "nbformat_minor": 5
}
