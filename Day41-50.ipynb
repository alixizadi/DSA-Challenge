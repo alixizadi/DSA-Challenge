{
 "cells": [
  {
   "cell_type": "markdown",
   "id": "293bb219-82c0-498e-b44b-4c03c779d179",
   "metadata": {},
   "source": [
    "String to Integer (atoi)\n",
    "Medium\n",
    "Implement the myAtoi(string s) function, which converts a string string to a 32-bit signed integer (similar to C/C++'s atoi function).\n",
    "Return the integer as the final result.\n"
   ]
  },
  {
   "cell_type": "markdown",
   "id": "8f9ceeac-245c-4026-bf4a-581f0f22c406",
   "metadata": {},
   "source": [
    "Spiral Matrix\n",
    "Medium\n",
    "Given an m x n matrix return all elements of the matrix in spiral order."
   ]
  },
  {
   "cell_type": "markdown",
   "id": "1088c739-7327-44e0-b1ab-169449f76a42",
   "metadata": {},
   "source": [
    "Subsets\n",
    "Medium\n",
    "Given an integer array nums of unique elements, return all possible subsets (the power set).\n",
    "The solution set must not contain duplicate subsets. Return the solution in any order."
   ]
  },
  {
   "cell_type": "markdown",
   "id": "594c02a5-3d33-4ad0-87d6-c7ec6976cce4",
   "metadata": {},
   "source": [
    "Binary Tree Right Side View\n",
    "Medium\n",
    "Given the root of a binary tree, imagine yourself standing on\n",
    "the right side of it, return the values of the nodes you can see ordered from top to bottom."
   ]
  },
  {
   "cell_type": "markdown",
   "id": "d270111f-2a6b-4948-8de6-6f8598ac3894",
   "metadata": {},
   "source": [
    "Longest Palindromic Substring Given a string s return the longest Palindromic Substring in s\n"
   ]
  },
  {
   "cell_type": "markdown",
   "id": "593c39bb-adf6-48dd-b2c3-0d9d356a78e5",
   "metadata": {},
   "source": [
    "Unique Paths\n",
    "Medium\n",
    "There is a robot on an m x n grid. The robot is initially located at the\n",
    "top-left corner. The robot tries to move to the bottom-right corner The robot can only move either down or right at any point in time.\n",
    "Given the two integers m and n , return the number of possible unique paths that the robot can take to reach the bottom-right corner.\n"
   ]
  },
  {
   "cell_type": "markdown",
   "id": "30f1779a-cac8-4d0d-b267-306ac636a36a",
   "metadata": {},
   "source": [
    "Construct Binary Tree from Preorder\n",
    "and Inorder Traversal\n",
    "Medium\n",
    "Given two integer arrays preorder and inorder where preorder\n",
    "is the preorder traversal of a binary tree and inorder is the inorder traversal of the same tree, construct and return the binary tree."
   ]
  },
  {
   "cell_type": "markdown",
   "id": "e9866524-e339-446b-9845-c3a609b24b44",
   "metadata": {},
   "source": [
    "Container With Most Water\n",
    "Medium\n",
    "You are given an integer array height of length n . There are n vertical lines drawn such that the two endpoints of the ith line are (i, 0) and (i, height[i])\n",
    "Return the maximum amount of water a container can store.\n"
   ]
  },
  {
   "cell_type": "markdown",
   "id": "8edac09f-3b1f-4ded-ba11-654cb7f4c882",
   "metadata": {},
   "source": [
    "Find All Anagrams in a String\n",
    "Medium\n",
    "Given two strings s and p , return an array of all the start indices of p ‘s anagrams in s . You may return the answer in any order.\n"
   ]
  },
  {
   "cell_type": "markdown",
   "id": "9f1947ba-cb74-4c44-9a50-c68b11d8e546",
   "metadata": {},
   "source": [
    "Minimum Height Trees\n",
    "Medium\n",
    "Given a tree of n nodes labelled from 0 to n-1 and an array of\n",
    "n-1 edges where edges[i] = [ai, bi] indicates that there is\n",
    "an undirected edge between the two nodes in the tree, you can choose any node of the tree as the root.\n",
    "Return a list of all MHTs' root labels. You can return the answer in any order."
   ]
  }
 ],
 "metadata": {
  "kernelspec": {
   "display_name": "Python 3 (ipykernel)",
   "language": "python",
   "name": "python3"
  },
  "language_info": {
   "codemirror_mode": {
    "name": "ipython",
    "version": 3
   },
   "file_extension": ".py",
   "mimetype": "text/x-python",
   "name": "python",
   "nbconvert_exporter": "python",
   "pygments_lexer": "ipython3",
   "version": "3.9.7"
  }
 },
 "nbformat": 4,
 "nbformat_minor": 5
}
