{
 "cells": [
  {
   "cell_type": "markdown",
   "id": "293bb219-82c0-498e-b44b-4c03c779d179",
   "metadata": {},
   "source": [
    "## 41. String to Integer (atoi) `Medium`\n",
    "- Implement the myAtoi(string s) function, which converts a string string to a 32-bit signed integer (similar to C/C++'s atoi function).\n",
    "- Return the integer as the final result.\n"
   ]
  },
  {
   "cell_type": "code",
   "execution_count": 1,
   "id": "5bb0f51a-d98c-43a2-9767-ed26dbefd24d",
   "metadata": {},
   "outputs": [
    {
     "name": "stdout",
     "output_type": "stream",
     "text": [
      "42\n",
      "-42\n",
      "4193\n",
      "0\n",
      "-2147483648\n"
     ]
    }
   ],
   "source": [
    "def myAtoi(s: str) -> int:\n",
    "    INT_MIN, INT_MAX = -2**31, 2**31 - 1\n",
    "    result, sign, i = 0, 1, 0\n",
    "\n",
    "    # Step 1: Remove leading whitespace\n",
    "    s = s.strip()\n",
    "\n",
    "    # Step 2: Handle the sign\n",
    "    if i < len(s) and (s[i] == '-' or s[i] == '+'):\n",
    "        if s[i] == '-':\n",
    "            sign = -1\n",
    "        i += 1\n",
    "\n",
    "    # Step 3: Convert the digits to an integer\n",
    "    while i < len(s) and s[i].isdigit():\n",
    "        digit = int(s[i])\n",
    "        # Check for integer overflow\n",
    "        if result > (INT_MAX - digit) // 10:\n",
    "            return INT_MAX if sign == 1 else INT_MIN\n",
    "        result = result * 10 + digit\n",
    "        i += 1\n",
    "\n",
    "    # Step 4: Apply the sign and return the result\n",
    "    return sign * result\n",
    "\n",
    "# Test cases\n",
    "print(myAtoi(\"42\"))        # Output: 42\n",
    "print(myAtoi(\"   -42\"))    # Output: -42\n",
    "print(myAtoi(\"4193 with words\"))    # Output: 4193\n",
    "print(myAtoi(\"words and 987\"))      # Output: 0\n",
    "print(myAtoi(\"-91283472332\"))      # Output: -2147483648 (INT_MIN)\n"
   ]
  },
  {
   "cell_type": "markdown",
   "id": "8f9ceeac-245c-4026-bf4a-581f0f22c406",
   "metadata": {},
   "source": [
    "## 42. Spiral Matrix `Medium`\n",
    "- Given an m x n matrix return all elements of the matrix in spiral order."
   ]
  },
  {
   "cell_type": "code",
   "execution_count": 3,
   "id": "2689de6c-bd96-4b2d-8839-71f91890b494",
   "metadata": {},
   "outputs": [
    {
     "name": "stdout",
     "output_type": "stream",
     "text": [
      "[1, 2, 3, 10, 11, 12, 9, 8, 7, 4, 5, 6]\n"
     ]
    }
   ],
   "source": [
    "def spiralOrder(matrix):\n",
    "    if not matrix:\n",
    "        return []\n",
    "\n",
    "    m, n = len(matrix), len(matrix[0])\n",
    "    result = []\n",
    "\n",
    "    top, bottom, left, right = 0, m - 1, 0, n - 1\n",
    "\n",
    "    while top <= bottom and left <= right:\n",
    "        # Traverse the top row\n",
    "        for j in range(left, right + 1):\n",
    "            result.append(matrix[top][j])\n",
    "        top += 1\n",
    "\n",
    "        # Traverse the rightmost column\n",
    "        for i in range(top, bottom + 1):\n",
    "            result.append(matrix[i][right])\n",
    "        right -= 1\n",
    "\n",
    "        # Traverse the bottom row (if there are rows left)\n",
    "        if top <= bottom:\n",
    "            for j in range(right, left - 1, -1):\n",
    "                result.append(matrix[bottom][j])\n",
    "            bottom -= 1\n",
    "\n",
    "        # Traverse the leftmost column (if there are columns left)\n",
    "        if left <= right:\n",
    "            for i in range(bottom, top - 1, -1):\n",
    "                result.append(matrix[i][left])\n",
    "            left += 1\n",
    "\n",
    "    return result\n",
    "\n",
    "# Test case\n",
    "matrix = [\n",
    "    [1, 2, 3, 10],\n",
    "    [4, 5, 6, 11],\n",
    "    [7, 8, 9, 12]\n",
    "]\n",
    "\n",
    "print(spiralOrder(matrix))  # Output: [1, 2, 3, 6, 9, 8, 7, 4, 5]\n"
   ]
  },
  {
   "cell_type": "markdown",
   "id": "1088c739-7327-44e0-b1ab-169449f76a42",
   "metadata": {},
   "source": [
    "## 43. Subsets `Medium`\n",
    "- Given an integer array nums of unique elements, return all possible subsets (the power set).\n",
    "- The solution set must not contain duplicate subsets. Return the solution in any order."
   ]
  },
  {
   "cell_type": "code",
   "execution_count": 4,
   "id": "a14087af-14f1-4887-b763-1efb77ff0651",
   "metadata": {},
   "outputs": [
    {
     "name": "stdout",
     "output_type": "stream",
     "text": [
      "[[], [1], [1, 2], [1, 2, 3], [1, 3], [2], [2, 3], [3]]\n"
     ]
    }
   ],
   "source": [
    "def subsets(nums):\n",
    "    def backtrack(start, path):\n",
    "        result.append(path[:])\n",
    "\n",
    "        for i in range(start, len(nums)):\n",
    "            path.append(nums[i])\n",
    "            backtrack(i + 1, path)\n",
    "            path.pop()\n",
    "\n",
    "    result = []\n",
    "    backtrack(0, [])\n",
    "    return result\n",
    "\n",
    "# Test case\n",
    "nums = [1, 2, 3]\n",
    "print(subsets(nums))\n"
   ]
  },
  {
   "cell_type": "markdown",
   "id": "594c02a5-3d33-4ad0-87d6-c7ec6976cce4",
   "metadata": {},
   "source": [
    "## 44. Binary Tree Right Side View `Medium`\n",
    "- Given the root of a binary tree, imagine yourself standing on the right side of it, return the values of the nodes you can see ordered from top to bottom."
   ]
  },
  {
   "cell_type": "code",
   "execution_count": 6,
   "id": "8c3d2fdc-5c58-407a-b4f1-1bb8be854189",
   "metadata": {},
   "outputs": [
    {
     "name": "stdout",
     "output_type": "stream",
     "text": [
      "[1, 3, 4]\n"
     ]
    }
   ],
   "source": [
    "class TreeNode:\n",
    "    def __init__(self, val=0, left=None, right=None):\n",
    "        self.val = val\n",
    "        self.left = left\n",
    "        self.right = right\n",
    "\n",
    "def rightSideView(root):\n",
    "    if not root:\n",
    "        return []\n",
    "\n",
    "    result = []\n",
    "    queue = [root]\n",
    "\n",
    "    while queue:\n",
    "        # Get the number of nodes in the current level\n",
    "        level_length = len(queue)\n",
    "\n",
    "        # Traverse all nodes in the current level and add the rightmost node's value to the result\n",
    "        for i in range(level_length):\n",
    "            node = queue.pop(0)\n",
    "            if i == level_length - 1:  # Rightmost node at this level\n",
    "                result.append(node.val)\n",
    "\n",
    "            # Add the child nodes to the queue for the next level\n",
    "            if node.left:\n",
    "                queue.append(node.left)\n",
    "            if node.right:\n",
    "                queue.append(node.right)\n",
    "\n",
    "    return result\n",
    "\n",
    "# Test case\n",
    "#       1\n",
    "#      / \\\n",
    "#     2   3\n",
    "#      \\   \\\n",
    "#       5   4\n",
    "root = TreeNode(1)\n",
    "root.left = TreeNode(2)\n",
    "root.right = TreeNode(3)\n",
    "root.left.right = TreeNode(5)\n",
    "root.right.right = TreeNode(4)\n",
    "\n",
    "print(rightSideView(root))  # Output: [1, 3, 4]\n"
   ]
  },
  {
   "cell_type": "markdown",
   "id": "d270111f-2a6b-4948-8de6-6f8598ac3894",
   "metadata": {},
   "source": [
    "## 45. Longest Palindromic Substring\n",
    "- Given a string s return the longest Palindromic Substring in s\n"
   ]
  },
  {
   "cell_type": "code",
   "execution_count": 8,
   "id": "cdced40c-fefc-4996-bb33-388d3e22119a",
   "metadata": {},
   "outputs": [
    {
     "name": "stdout",
     "output_type": "stream",
     "text": [
      "abadadaba\n"
     ]
    }
   ],
   "source": [
    "def longestPalindrome(s: str) -> str:\n",
    "    n = len(s)\n",
    "\n",
    "    # Create a table to store the results of subproblems.\n",
    "    dp = [[False for _ in range(n)] for _ in range(n)]\n",
    "\n",
    "    # All substrings of length 1 are palindromes.\n",
    "    for i in range(n):\n",
    "        dp[i][i] = True\n",
    "\n",
    "    start = 0  # Start index of the longest palindromic substring.\n",
    "    max_length = 1  # Length of the longest palindromic substring.\n",
    "\n",
    "    # Check for substrings of length 2.\n",
    "    for i in range(n - 1):\n",
    "        if s[i] == s[i + 1]:\n",
    "            dp[i][i + 1] = True\n",
    "            start = i\n",
    "            max_length = 2\n",
    "\n",
    "    # Check for substrings of length 3 and more.\n",
    "    for length in range(3, n + 1):\n",
    "        for i in range(n - length + 1):\n",
    "            j = i + length - 1\n",
    "            if s[i] == s[j] and dp[i + 1][j - 1]:\n",
    "                dp[i][j] = True\n",
    "                if length > max_length:\n",
    "                    start = i\n",
    "                    max_length = length\n",
    "\n",
    "    return s[start:start + max_length]\n",
    "\n",
    "# Test case\n",
    "print(longestPalindrome(\"babadadabadab\"))  \n"
   ]
  },
  {
   "cell_type": "markdown",
   "id": "593c39bb-adf6-48dd-b2c3-0d9d356a78e5",
   "metadata": {},
   "source": [
    "## 46. Unique Paths `Medium`\n",
    "- There is a robot on an m x n grid. The robot is initially located at the top-left corner. The robot tries to move to the bottom-right corner The robot can only move either down or right at any point in time.\n",
    "- Given the two integers m and n , return the number of possible unique paths that the robot can take to reach the bottom-right corner.\n"
   ]
  },
  {
   "cell_type": "markdown",
   "id": "30f1779a-cac8-4d0d-b267-306ac636a36a",
   "metadata": {},
   "source": [
    "## 47. Construct Binary Tree from Preorder and Inorder Traversal `Medium`\n",
    "- Given two integer arrays preorder and inorder where preorder is the preorder traversal of a binary tree and inorder is the inorder traversal of the same tree, construct and return the binary tree."
   ]
  },
  {
   "cell_type": "markdown",
   "id": "e9866524-e339-446b-9845-c3a609b24b44",
   "metadata": {},
   "source": [
    "## 48. Container With Most Water `Medium`\n",
    "- You are given an integer array height of length n . There are n vertical lines drawn such that the two endpoints of the ith line are (i, 0) and (i, height[i])\n",
    "- Return the maximum amount of water a container can store.\n"
   ]
  },
  {
   "cell_type": "markdown",
   "id": "8edac09f-3b1f-4ded-ba11-654cb7f4c882",
   "metadata": {},
   "source": [
    "## 49. Find All Anagrams in a String `Medium`\n",
    "- Given two strings s and p , return an array of all the start indices of p ‘s anagrams in s . You may return the answer in any order.\n"
   ]
  },
  {
   "cell_type": "markdown",
   "id": "9f1947ba-cb74-4c44-9a50-c68b11d8e546",
   "metadata": {},
   "source": [
    "## 50. Minimum Height Trees `Medium`\n",
    "- Given a tree of n nodes labelled from 0 to n-1 and an array of n-1 edges where edges[i] = [ai, bi] indicates that there is an undirected edge between the two nodes in the tree, you can choose any node of the tree as the root.\n",
    "- Return a list of all MHTs' root labels. You can return the answer in any order."
   ]
  },
  {
   "cell_type": "code",
   "execution_count": null,
   "id": "5e1ce5be-147c-43a8-bda5-1594dce57564",
   "metadata": {},
   "outputs": [],
   "source": []
  }
 ],
 "metadata": {
  "kernelspec": {
   "display_name": "Python 3 (ipykernel)",
   "language": "python",
   "name": "python3"
  },
  "language_info": {
   "codemirror_mode": {
    "name": "ipython",
    "version": 3
   },
   "file_extension": ".py",
   "mimetype": "text/x-python",
   "name": "python",
   "nbconvert_exporter": "python",
   "pygments_lexer": "ipython3",
   "version": "3.9.7"
  }
 },
 "nbformat": 4,
 "nbformat_minor": 5
}
