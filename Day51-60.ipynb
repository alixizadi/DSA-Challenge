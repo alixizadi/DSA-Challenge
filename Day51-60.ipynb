{
 "cells": [
  {
   "cell_type": "markdown",
   "id": "b36c3212-3bed-4341-9455-88f5a9aaa308",
   "metadata": {},
   "source": [
    "Task Scheduler\n",
    "Medium\n",
    "Given a characters array tasks , representing the tasks a CPU\n",
    "needs to do, where each letter represents a different task. Tasks could be done in any order. Each task is done in one unit of time.\n",
    "Return the least number of units of times that the CPU will take to finish all the given tasks."
   ]
  },
  {
   "cell_type": "markdown",
   "id": "547b4565-9726-4d03-9956-720b13529ab3",
   "metadata": {},
   "source": [
    "LRU Cache\n",
    "Question asked in:\n",
    "Medium\n",
    "Design a data structure that follows the constraints of a Least Recently Used (LRU) cache.\n",
    "Implement the LRUCache class:\n",
    "LRUCache(int capacity) Initialize the LRU cache with positive size capacity int get(int key) Return the value of the key if the key exists.\n",
    "void put(int key, int value) Update the value of the key\n"
   ]
  },
  {
   "cell_type": "markdown",
   "id": "67386835-45c4-4fb9-9f16-924a7d37a806",
   "metadata": {},
   "source": [
    "Kth Smallest Element in a BST\n",
    "Medium\n",
    "Given the root of a binary search tree, and an integer k , return\n",
    "the kth smallest value (1-indexed) of all the values of the nodes in the tree."
   ]
  },
  {
   "cell_type": "markdown",
   "id": "779a1cb8-9d92-436e-b015-f1f555f3827c",
   "metadata": {},
   "source": [
    "Minimum Window Substring\n",
    "Hard\n",
    "Given two strings s and t of lengths m and n respectively, return theminimumwindowsubstringof s suchthateverycharacterin\n",
    "t (includingduplicates)isincludedinthewindow.Ifthereisno suchsubstring,returntheemptystring “”\n",
    "The testcases will be generated such that the answer is unique."
   ]
  },
  {
   "cell_type": "markdown",
   "id": "d26eb9b2-b118-4175-bcdd-4dc469d70bc3",
   "metadata": {},
   "source": [
    "Find Median from Data Stream\n",
    "Hard\n",
    "The median is the middle value in an ordered integer list. If the size\n",
    "\n",
    "of the list is even, there is no middle value, and the median is the mean\n",
    " of the two middle values.\n",
    "For example, for arr = [2,3,4] , the median is 3 Forexample,for arr = [2,3] ,themedianis (2 + 3) / 2 = 2.5"
   ]
  },
  {
   "cell_type": "markdown",
   "id": "d805451b-0ba7-4599-a18a-8309639d3caf",
   "metadata": {},
   "source": [
    "Word Ladder\n",
    "Question asked in:\n",
    "Hard\n",
    "A transformation sequence from word beginWord to word endWord using a dictionary wordList is a sequence of words\n",
    "beginWord -> s1 -> s2 -> ... -> sk such that:\n",
    "Given two words, beginWord and endWord , and a dictionary wordList\n",
    ", return the number of words in the shortest transformation sequence from\n",
    "beginWord to endWord , or 0 if no such sequence exists.\n"
   ]
  },
  {
   "cell_type": "markdown",
   "id": "f76278d2-c0f2-43a4-848e-687662ec779a",
   "metadata": {},
   "source": [
    "Basic Calculator\n",
    "Hard\n",
    "Given a string s representing a valid expression, implement a basic calculator to evaluate it, and return the result of the evaluation.\n"
   ]
  },
  {
   "cell_type": "markdown",
   "id": "4f5de0a5-6037-4929-95c7-cf7bce578dc4",
   "metadata": {},
   "source": [
    "Maximum Profit in Job Scheduling\n",
    "We have n where every job is scheduled to be done from startTime[i] to endTime[i] , obtaining a profit of profit[i]\n",
    "Return the maximum profit you can take such that there are no two\n",
    " jobs in the subset with overlapping time range.\n",
    "Hard"
   ]
  },
  {
   "cell_type": "markdown",
   "id": "8a30c349-59c2-4c28-b751-b163d336373c",
   "metadata": {},
   "source": [
    "Merge k Sorted Lists\n",
    "Hard\n",
    "You are given an array of k linked-lists lists , each linked-list is sorted in ascending order.\n",
    "Merge all the linked-lists into one sorted linked-list and return it.\n"
   ]
  },
  {
   "cell_type": "markdown",
   "id": "5a62b0e7-4339-4cb0-85cf-1f96ba5dbbf4",
   "metadata": {},
   "source": [
    "Largest Rectangle in Histogram\n",
    "Hard\n",
    "Given an array of integers heights representing the histogram's bar\n",
    "height where the width of each bar is 1 , return the area of the largest rectangle in the histogram.\n"
   ]
  }
 ],
 "metadata": {
  "kernelspec": {
   "display_name": "Python 3 (ipykernel)",
   "language": "python",
   "name": "python3"
  },
  "language_info": {
   "codemirror_mode": {
    "name": "ipython",
    "version": 3
   },
   "file_extension": ".py",
   "mimetype": "text/x-python",
   "name": "python",
   "nbconvert_exporter": "python",
   "pygments_lexer": "ipython3",
   "version": "3.9.7"
  }
 },
 "nbformat": 4,
 "nbformat_minor": 5
}
